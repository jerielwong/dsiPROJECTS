{
 "cells": [
  {
   "cell_type": "markdown",
   "metadata": {},
   "source": [
    "# Project 1: SAT & ACT Analysis"
   ]
  },
  {
   "cell_type": "markdown",
   "metadata": {},
   "source": [
    "The first markdown cell in a notebook is a great place to provide an overview of your entire project. You will likely want to at least state your\n",
    "\n",
    "## Problem Statement"
   ]
  },
  {
   "cell_type": "markdown",
   "metadata": {},
   "source": [
    "Define the problem you are finding answers for from the data given."
   ]
  },
  {
   "cell_type": "markdown",
   "metadata": {},
   "source": [
    "## Executive Summary\n",
    "\n",
    "If you want to, it's great to use relative links to direct your audience to various sections of a notebook. **HERE'S A DEMONSTRATION WITH THE CURRENT SECTION HEADERS**:\n",
    "\n",
    "### Contents:\n",
    "- [2017 Data Import & Cleaning](#Data-Import-and-Cleaning)\n",
    "- [2018 Data Import and Cleaning](#2018-Data-Import-and-Cleaning)\n",
    "- [Exploratory Data Analysis](#Exploratory-Data-Analysis)\n",
    "- [Data Visualization](#Visualize-the-data)\n",
    "- [Descriptive and Inferential Statistics](#Descriptive-and-Inferential-Statistics)\n",
    "- [Outside Research](#Outside-Research)\n",
    "- [Conclusions and Recommendations](#Conclusions-and-Recommendations)"
   ]
  },
  {
   "cell_type": "markdown",
   "metadata": {},
   "source": [
    "**If you combine your problem statement, executive summary, data dictionary, and conclusions/recommendations, you have an amazing README.md file that quickly aligns your audience to the contents of your project.** Don't forget to cite your data sources!"
   ]
  },
  {
   "cell_type": "markdown",
   "metadata": {},
   "source": [
    "*All libraries used should be added here*"
   ]
  },
  {
   "cell_type": "code",
   "execution_count": 302,
   "metadata": {},
   "outputs": [],
   "source": [
    "#Imports:\n",
    "import pandas as pd\n",
    "import numpy as np"
   ]
  },
  {
   "cell_type": "markdown",
   "metadata": {},
   "source": [
    "## 2017 Data Import and Cleaning"
   ]
  },
  {
   "cell_type": "markdown",
   "metadata": {},
   "source": [
    "#### 1. Read In SAT & ACT  Data\n",
    "\n",
    "Read in the `sat_2017.csv` and `act_2017.csv` files and assign them to appropriately named pandas dataframes."
   ]
  },
  {
   "cell_type": "code",
   "execution_count": 303,
   "metadata": {},
   "outputs": [],
   "source": [
    "#Code:\n",
    "satdata2017 = pd.read_csv('../data/sat_2017.csv')\n",
    "actdata2017 = pd.read_csv('../data/act_2017.csv')"
   ]
  },
  {
   "cell_type": "markdown",
   "metadata": {},
   "source": [
    "#### 2. Display Data\n",
    "\n",
    "Print the first 10 rows of each dataframe to your jupyter notebook"
   ]
  },
  {
   "cell_type": "code",
   "execution_count": 304,
   "metadata": {},
   "outputs": [
    {
     "data": {
      "text/html": [
       "<div>\n",
       "<style scoped>\n",
       "    .dataframe tbody tr th:only-of-type {\n",
       "        vertical-align: middle;\n",
       "    }\n",
       "\n",
       "    .dataframe tbody tr th {\n",
       "        vertical-align: top;\n",
       "    }\n",
       "\n",
       "    .dataframe thead th {\n",
       "        text-align: right;\n",
       "    }\n",
       "</style>\n",
       "<table border=\"1\" class=\"dataframe\">\n",
       "  <thead>\n",
       "    <tr style=\"text-align: right;\">\n",
       "      <th></th>\n",
       "      <th>State</th>\n",
       "      <th>Participation</th>\n",
       "      <th>Evidence-Based Reading and Writing</th>\n",
       "      <th>Math</th>\n",
       "      <th>Total</th>\n",
       "    </tr>\n",
       "  </thead>\n",
       "  <tbody>\n",
       "    <tr>\n",
       "      <th>0</th>\n",
       "      <td>Alabama</td>\n",
       "      <td>5%</td>\n",
       "      <td>593</td>\n",
       "      <td>572</td>\n",
       "      <td>1165</td>\n",
       "    </tr>\n",
       "    <tr>\n",
       "      <th>1</th>\n",
       "      <td>Alaska</td>\n",
       "      <td>38%</td>\n",
       "      <td>547</td>\n",
       "      <td>533</td>\n",
       "      <td>1080</td>\n",
       "    </tr>\n",
       "    <tr>\n",
       "      <th>2</th>\n",
       "      <td>Arizona</td>\n",
       "      <td>30%</td>\n",
       "      <td>563</td>\n",
       "      <td>553</td>\n",
       "      <td>1116</td>\n",
       "    </tr>\n",
       "    <tr>\n",
       "      <th>3</th>\n",
       "      <td>Arkansas</td>\n",
       "      <td>3%</td>\n",
       "      <td>614</td>\n",
       "      <td>594</td>\n",
       "      <td>1208</td>\n",
       "    </tr>\n",
       "    <tr>\n",
       "      <th>4</th>\n",
       "      <td>California</td>\n",
       "      <td>53%</td>\n",
       "      <td>531</td>\n",
       "      <td>524</td>\n",
       "      <td>1055</td>\n",
       "    </tr>\n",
       "    <tr>\n",
       "      <th>5</th>\n",
       "      <td>Colorado</td>\n",
       "      <td>11%</td>\n",
       "      <td>606</td>\n",
       "      <td>595</td>\n",
       "      <td>1201</td>\n",
       "    </tr>\n",
       "    <tr>\n",
       "      <th>6</th>\n",
       "      <td>Connecticut</td>\n",
       "      <td>100%</td>\n",
       "      <td>530</td>\n",
       "      <td>512</td>\n",
       "      <td>1041</td>\n",
       "    </tr>\n",
       "    <tr>\n",
       "      <th>7</th>\n",
       "      <td>Delaware</td>\n",
       "      <td>100%</td>\n",
       "      <td>503</td>\n",
       "      <td>492</td>\n",
       "      <td>996</td>\n",
       "    </tr>\n",
       "    <tr>\n",
       "      <th>8</th>\n",
       "      <td>District of Columbia</td>\n",
       "      <td>100%</td>\n",
       "      <td>482</td>\n",
       "      <td>468</td>\n",
       "      <td>950</td>\n",
       "    </tr>\n",
       "    <tr>\n",
       "      <th>9</th>\n",
       "      <td>Florida</td>\n",
       "      <td>83%</td>\n",
       "      <td>520</td>\n",
       "      <td>497</td>\n",
       "      <td>1017</td>\n",
       "    </tr>\n",
       "  </tbody>\n",
       "</table>\n",
       "</div>"
      ],
      "text/plain": [
       "                  State Participation  Evidence-Based Reading and Writing  \\\n",
       "0               Alabama            5%                                 593   \n",
       "1                Alaska           38%                                 547   \n",
       "2               Arizona           30%                                 563   \n",
       "3              Arkansas            3%                                 614   \n",
       "4            California           53%                                 531   \n",
       "5              Colorado           11%                                 606   \n",
       "6           Connecticut          100%                                 530   \n",
       "7              Delaware          100%                                 503   \n",
       "8  District of Columbia          100%                                 482   \n",
       "9               Florida           83%                                 520   \n",
       "\n",
       "   Math  Total  \n",
       "0   572   1165  \n",
       "1   533   1080  \n",
       "2   553   1116  \n",
       "3   594   1208  \n",
       "4   524   1055  \n",
       "5   595   1201  \n",
       "6   512   1041  \n",
       "7   492    996  \n",
       "8   468    950  \n",
       "9   497   1017  "
      ]
     },
     "execution_count": 304,
     "metadata": {},
     "output_type": "execute_result"
    }
   ],
   "source": [
    "#First 10 rows of SAT 2017\n",
    "\n",
    "satdata2017.head(10)\n"
   ]
  },
  {
   "cell_type": "code",
   "execution_count": 305,
   "metadata": {},
   "outputs": [
    {
     "data": {
      "text/html": [
       "<div>\n",
       "<style scoped>\n",
       "    .dataframe tbody tr th:only-of-type {\n",
       "        vertical-align: middle;\n",
       "    }\n",
       "\n",
       "    .dataframe tbody tr th {\n",
       "        vertical-align: top;\n",
       "    }\n",
       "\n",
       "    .dataframe thead th {\n",
       "        text-align: right;\n",
       "    }\n",
       "</style>\n",
       "<table border=\"1\" class=\"dataframe\">\n",
       "  <thead>\n",
       "    <tr style=\"text-align: right;\">\n",
       "      <th></th>\n",
       "      <th>State</th>\n",
       "      <th>Participation</th>\n",
       "      <th>English</th>\n",
       "      <th>Math</th>\n",
       "      <th>Reading</th>\n",
       "      <th>Science</th>\n",
       "      <th>Composite</th>\n",
       "    </tr>\n",
       "  </thead>\n",
       "  <tbody>\n",
       "    <tr>\n",
       "      <th>0</th>\n",
       "      <td>National</td>\n",
       "      <td>60%</td>\n",
       "      <td>20.3</td>\n",
       "      <td>20.7</td>\n",
       "      <td>21.4</td>\n",
       "      <td>21.0</td>\n",
       "      <td>21.0</td>\n",
       "    </tr>\n",
       "    <tr>\n",
       "      <th>1</th>\n",
       "      <td>Alabama</td>\n",
       "      <td>100%</td>\n",
       "      <td>18.9</td>\n",
       "      <td>18.4</td>\n",
       "      <td>19.7</td>\n",
       "      <td>19.4</td>\n",
       "      <td>19.2</td>\n",
       "    </tr>\n",
       "    <tr>\n",
       "      <th>2</th>\n",
       "      <td>Alaska</td>\n",
       "      <td>65%</td>\n",
       "      <td>18.7</td>\n",
       "      <td>19.8</td>\n",
       "      <td>20.4</td>\n",
       "      <td>19.9</td>\n",
       "      <td>19.8</td>\n",
       "    </tr>\n",
       "    <tr>\n",
       "      <th>3</th>\n",
       "      <td>Arizona</td>\n",
       "      <td>62%</td>\n",
       "      <td>18.6</td>\n",
       "      <td>19.8</td>\n",
       "      <td>20.1</td>\n",
       "      <td>19.8</td>\n",
       "      <td>19.7</td>\n",
       "    </tr>\n",
       "    <tr>\n",
       "      <th>4</th>\n",
       "      <td>Arkansas</td>\n",
       "      <td>100%</td>\n",
       "      <td>18.9</td>\n",
       "      <td>19.0</td>\n",
       "      <td>19.7</td>\n",
       "      <td>19.5</td>\n",
       "      <td>19.4</td>\n",
       "    </tr>\n",
       "    <tr>\n",
       "      <th>5</th>\n",
       "      <td>California</td>\n",
       "      <td>31%</td>\n",
       "      <td>22.5</td>\n",
       "      <td>22.7</td>\n",
       "      <td>23.1</td>\n",
       "      <td>22.2</td>\n",
       "      <td>22.8</td>\n",
       "    </tr>\n",
       "    <tr>\n",
       "      <th>6</th>\n",
       "      <td>Colorado</td>\n",
       "      <td>100%</td>\n",
       "      <td>20.1</td>\n",
       "      <td>20.3</td>\n",
       "      <td>21.2</td>\n",
       "      <td>20.9</td>\n",
       "      <td>20.8</td>\n",
       "    </tr>\n",
       "    <tr>\n",
       "      <th>7</th>\n",
       "      <td>Connecticut</td>\n",
       "      <td>31%</td>\n",
       "      <td>25.5</td>\n",
       "      <td>24.6</td>\n",
       "      <td>25.6</td>\n",
       "      <td>24.6</td>\n",
       "      <td>25.2</td>\n",
       "    </tr>\n",
       "    <tr>\n",
       "      <th>8</th>\n",
       "      <td>Delaware</td>\n",
       "      <td>18%</td>\n",
       "      <td>24.1</td>\n",
       "      <td>23.4</td>\n",
       "      <td>24.8</td>\n",
       "      <td>23.6</td>\n",
       "      <td>24.1</td>\n",
       "    </tr>\n",
       "    <tr>\n",
       "      <th>9</th>\n",
       "      <td>District of Columbia</td>\n",
       "      <td>32%</td>\n",
       "      <td>24.4</td>\n",
       "      <td>23.5</td>\n",
       "      <td>24.9</td>\n",
       "      <td>23.5</td>\n",
       "      <td>24.2</td>\n",
       "    </tr>\n",
       "  </tbody>\n",
       "</table>\n",
       "</div>"
      ],
      "text/plain": [
       "                  State Participation  English  Math  Reading  Science  \\\n",
       "0              National           60%     20.3  20.7     21.4     21.0   \n",
       "1               Alabama          100%     18.9  18.4     19.7     19.4   \n",
       "2                Alaska           65%     18.7  19.8     20.4     19.9   \n",
       "3               Arizona           62%     18.6  19.8     20.1     19.8   \n",
       "4              Arkansas          100%     18.9  19.0     19.7     19.5   \n",
       "5            California           31%     22.5  22.7     23.1     22.2   \n",
       "6              Colorado          100%     20.1  20.3     21.2     20.9   \n",
       "7           Connecticut           31%     25.5  24.6     25.6     24.6   \n",
       "8              Delaware           18%     24.1  23.4     24.8     23.6   \n",
       "9  District of Columbia           32%     24.4  23.5     24.9     23.5   \n",
       "\n",
       "  Composite  \n",
       "0      21.0  \n",
       "1      19.2  \n",
       "2      19.8  \n",
       "3      19.7  \n",
       "4      19.4  \n",
       "5      22.8  \n",
       "6      20.8  \n",
       "7      25.2  \n",
       "8      24.1  \n",
       "9      24.2  "
      ]
     },
     "execution_count": 305,
     "metadata": {},
     "output_type": "execute_result"
    }
   ],
   "source": [
    "actdata2017.head(10)"
   ]
  },
  {
   "cell_type": "markdown",
   "metadata": {},
   "source": [
    "#### 3. Verbally Describe Data\n",
    "\n",
    "Take your time looking through the data and thoroughly describe the data in the markdown cell below. "
   ]
  },
  {
   "cell_type": "markdown",
   "metadata": {},
   "source": [
    "Answer:\n",
    "SAT 2017 data\n",
    "1) 50 entries, with 5 columns in the order of \n",
    "    State   Participation   Evidence-Based Reading and Writing  \tMath  \tTotal\n",
    "    \n",
    "2) Reflects states of the country United States\n",
    "\n",
    "3) Each state, participation percentage, scores of Evidence-Based Reading and Writing, Math and Total\n",
    "\n",
    "4) Total, without any validation yet, seems to be the sum of Evidence-Based Reading and Writing + Math \n",
    "\n",
    "5) values for columns , Evidence-Based Reading and Writing , Math and Total are all int64 , which means values are properly filled as integers without decimal place"
   ]
  },
  {
   "cell_type": "markdown",
   "metadata": {},
   "source": [
    "ACT 2017 data\n",
    "1) 51 entries, with 7 columns in order of \n",
    "    State\t Participation\t English\t   Math  \tReading\t   Science\t Composite\n",
    "\n",
    "2) values of English Math Reading Science Composite are float at initial glance, as it has decimal places\n",
    "\n",
    "3) Composite data type should reflect float however it is object."
   ]
  },
  {
   "cell_type": "markdown",
   "metadata": {},
   "source": [
    "#### 4a. Does the data look complete? "
   ]
  },
  {
   "cell_type": "markdown",
   "metadata": {},
   "source": [
    "Answer:\n",
    "ACT Link vs ACT pandas data\n",
    "- ACT 2017 data seems to have a wrong value, resulting it to be a object data type.\n",
    "- ACT Link has 51 states whilst ACT pandas data has 52 states\n",
    "- the average between the 2 sources are different\n",
    "- this could be due to the additional row of state\n",
    "\n",
    "SAT Link vs SAT pandas data\n",
    "-  same number of states but the average of the ERW and Math is not the same"
   ]
  },
  {
   "cell_type": "markdown",
   "metadata": {},
   "source": [
    "#### 4b. Are there any obvious issues with the observations?\n",
    "\n",
    "**What is the minimum *possible* value for each test/subtest? What is the maximum *possible* value?**\n",
    "\n",
    "Consider comparing any questionable values to the sources of your data:\n",
    "- [SAT](https://blog.collegevine.com/here-are-the-average-sat-scores-by-state/)\n",
    "- [ACT](https://blog.prepscholar.com/act-scores-by-state-averages-highs-and-lows)"
   ]
  },
  {
   "cell_type": "markdown",
   "metadata": {},
   "source": [
    "ACT Link vs ACT pandas data\n",
    "- ACT 2017 data seems to have a wrong value, resulting it to be a object data type.\n",
    "- ACT Link has 51 states whilst ACT pandas data has 52 states\n",
    "- the average between the 2 sources are different\n",
    "- this could be due to the additional row of state\n",
    "\n",
    "SAT Link vs SAT pandas data\n",
    "-  same number of states but the average of the ERW and Math is not the same\n"
   ]
  },
  {
   "cell_type": "markdown",
   "metadata": {},
   "source": [
    "#### 4c. Fix any errors you identified\n",
    "\n",
    "**The data is available** so there's no need to guess or calculate anything. If you didn't find any errors, continue to the next step."
   ]
  },
  {
   "cell_type": "code",
   "execution_count": 306,
   "metadata": {},
   "outputs": [
    {
     "name": "stdout",
     "output_type": "stream",
     "text": [
      "    Math\n",
      "20   524\n",
      "   Composite\n",
      "51      20.2\n",
      "    Science\n",
      "21     23.2\n"
     ]
    }
   ],
   "source": [
    "#code\n",
    "# FIX 1 : SAT 2017 data maryland Math\n",
    "satdata2017.loc[satdata2017['State'] =='Maryland',['Math']] = 524\n",
    "print(satdata2017.loc[satdata2017['State'] =='Maryland',['Math']])\n",
    "\n",
    "# FIX 2 :  ACT 2017 data Wyoming Composite\n",
    "actdata2017.loc[actdata2017['State'] =='Wyoming',['Composite']] = 20.2\n",
    "print(actdata2017.loc[actdata2017['State'] =='Wyoming',['Composite']] )\n",
    "\n",
    "# FIX 3 : ACT SCIENCE 2017 Marland Math\n",
    "actdata2017.loc[actdata2017['State'] =='Maryland',['Science']] = 23.2\n",
    "print(actdata2017.loc[actdata2017['State'] =='Maryland',['Science']])\n",
    "\n",
    "# FIX 4 : removal of National in ACT 2017 data\n",
    "actdata2017 = actdata2017.drop(actdata2017.index[0])\n"
   ]
  },
  {
   "cell_type": "markdown",
   "metadata": {},
   "source": [
    "#### 5. What are your data types? \n",
    "Display the data types of each feature. "
   ]
  },
  {
   "cell_type": "code",
   "execution_count": 307,
   "metadata": {},
   "outputs": [
    {
     "name": "stdout",
     "output_type": "stream",
     "text": [
      "State                                 object\n",
      "Participation                         object\n",
      "Evidence-Based Reading and Writing     int64\n",
      "Math                                   int64\n",
      "Total                                  int64\n",
      "dtype: object\n"
     ]
    }
   ],
   "source": [
    "#code\n",
    "print(satdata2017.dtypes)\n"
   ]
  },
  {
   "cell_type": "code",
   "execution_count": 308,
   "metadata": {},
   "outputs": [
    {
     "name": "stdout",
     "output_type": "stream",
     "text": [
      "State             object\n",
      "Participation     object\n",
      "English          float64\n",
      "Math             float64\n",
      "Reading          float64\n",
      "Science          float64\n",
      "Composite         object\n",
      "dtype: object\n"
     ]
    }
   ],
   "source": [
    "print(actdata2017.dtypes)\n",
    "\n"
   ]
  },
  {
   "cell_type": "markdown",
   "metadata": {},
   "source": [
    "What did you learn?\n",
    "- Do any of them seem odd?  \n",
    "- Which ones are not as they should be?  "
   ]
  },
  {
   "cell_type": "markdown",
   "metadata": {},
   "source": [
    "Answer:\n",
    "- composite should be float64\n",
    "- participation will be better if it is numeric instead of %"
   ]
  },
  {
   "cell_type": "markdown",
   "metadata": {},
   "source": [
    "#### 6. Fix Incorrect Data Types\n",
    "Based on what you discovered above, use appropriate methods to re-type incorrectly typed data.\n",
    "- Define a function that will allow you to convert participation rates to an appropriate numeric type. Use `map` or `apply` to change these columns in each dataframe."
   ]
  },
  {
   "cell_type": "code",
   "execution_count": 309,
   "metadata": {},
   "outputs": [],
   "source": [
    "#code\n",
    "#writing a function for converting participation to a float since % is .eg. 0. something\n",
    "# 1) converting participation to a float since %\n",
    "# 2) convert data type to float\n",
    "\n",
    "def partici_to_number(partici):\n",
    "    if '%'  not in str(partici):\n",
    "        partici = float(partici)\n",
    "    else:\n",
    "        partici = partici.replace('%','')\n",
    "        partici = float(partici)\n",
    "    return partici\n"
   ]
  },
  {
   "cell_type": "code",
   "execution_count": 310,
   "metadata": {},
   "outputs": [],
   "source": [
    "actdata2017['Participation'] = actdata2017['Participation'].map(partici_to_number)\n",
    "\n"
   ]
  },
  {
   "cell_type": "markdown",
   "metadata": {},
   "source": [
    "- Fix any individual values preventing other columns from being the appropriate type."
   ]
  },
  {
   "cell_type": "code",
   "execution_count": 311,
   "metadata": {},
   "outputs": [],
   "source": [
    "#code\n",
    "#fixing actdata2017 for data type\n",
    "#can use .dtype\n",
    "satdata2017['Participation'] = satdata2017['Participation'].map(partici_to_number)"
   ]
  },
  {
   "cell_type": "markdown",
   "metadata": {},
   "source": [
    "- Finish your data modifications by making sure the columns are now typed appropriately."
   ]
  },
  {
   "cell_type": "code",
   "execution_count": 312,
   "metadata": {},
   "outputs": [],
   "source": [
    "#code Changing ACT and SAT 2017 all to float\n",
    "actdata2017['Composite'] = pd.to_numeric(actdata2017['Composite'])\n",
    "\n",
    "satdata2017['Evidence-Based Reading and Writing'] =\\\n",
    "pd.to_numeric(satdata2017['Evidence-Based Reading and Writing'],downcast='float')\n",
    "\n",
    "satdata2017['Math'] = pd.to_numeric(satdata2017['Math'], downcast='float')\n",
    "satdata2017['Total'] = pd.to_numeric(satdata2017['Total'],downcast='float')"
   ]
  },
  {
   "cell_type": "markdown",
   "metadata": {},
   "source": [
    "- Display the data types again to confirm they are correct."
   ]
  },
  {
   "cell_type": "code",
   "execution_count": 313,
   "metadata": {},
   "outputs": [
    {
     "name": "stdout",
     "output_type": "stream",
     "text": [
      "<class 'pandas.core.frame.DataFrame'>\n",
      "Int64Index: 51 entries, 1 to 51\n",
      "Data columns (total 7 columns):\n",
      " #   Column         Non-Null Count  Dtype  \n",
      "---  ------         --------------  -----  \n",
      " 0   State          51 non-null     object \n",
      " 1   Participation  51 non-null     float64\n",
      " 2   English        51 non-null     float64\n",
      " 3   Math           51 non-null     float64\n",
      " 4   Reading        51 non-null     float64\n",
      " 5   Science        51 non-null     float64\n",
      " 6   Composite      51 non-null     float64\n",
      "dtypes: float64(6), object(1)\n",
      "memory usage: 3.2+ KB\n",
      "None\n",
      "<class 'pandas.core.frame.DataFrame'>\n",
      "RangeIndex: 51 entries, 0 to 50\n",
      "Data columns (total 5 columns):\n",
      " #   Column                              Non-Null Count  Dtype  \n",
      "---  ------                              --------------  -----  \n",
      " 0   State                               51 non-null     object \n",
      " 1   Participation                       51 non-null     float64\n",
      " 2   Evidence-Based Reading and Writing  51 non-null     float32\n",
      " 3   Math                                51 non-null     float32\n",
      " 4   Total                               51 non-null     float32\n",
      "dtypes: float32(3), float64(1), object(1)\n",
      "memory usage: 1.5+ KB\n",
      "None\n"
     ]
    }
   ],
   "source": [
    "#Code:\n",
    "print(actdata2017.info())\n",
    "print(satdata2017.info())"
   ]
  },
  {
   "cell_type": "markdown",
   "metadata": {},
   "source": [
    "#### 7. Rename Columns\n",
    "Change the names of the columns to more expressive names so that you can tell the difference the SAT columns and the ACT columns. Your solution should map all column names being changed at once (no repeated singular name-changes). **We will be combining these data with some of the data from 2018, and so you should name columns in an appropriate way**.\n",
    "\n",
    "**Guidelines**:\n",
    "- Column names should be all lowercase (you will thank yourself when you start pushing data to SQL later in the course)\n",
    "- Column names should not contain spaces (underscores will suffice--this allows for using the `df.column_name` method to access columns in addition to `df['column_name']`.\n",
    "- Column names should be unique and informative (the only feature that we actually share between dataframes is the state)."
   ]
  },
  {
   "cell_type": "code",
   "execution_count": 314,
   "metadata": {},
   "outputs": [
    {
     "data": {
      "text/html": [
       "<div>\n",
       "<style scoped>\n",
       "    .dataframe tbody tr th:only-of-type {\n",
       "        vertical-align: middle;\n",
       "    }\n",
       "\n",
       "    .dataframe tbody tr th {\n",
       "        vertical-align: top;\n",
       "    }\n",
       "\n",
       "    .dataframe thead th {\n",
       "        text-align: right;\n",
       "    }\n",
       "</style>\n",
       "<table border=\"1\" class=\"dataframe\">\n",
       "  <thead>\n",
       "    <tr style=\"text-align: right;\">\n",
       "      <th></th>\n",
       "      <th>state</th>\n",
       "      <th>sat_parti_2017</th>\n",
       "      <th>sat_erw_2017</th>\n",
       "      <th>sat_math_2017</th>\n",
       "      <th>sat_total_2017</th>\n",
       "    </tr>\n",
       "  </thead>\n",
       "  <tbody>\n",
       "    <tr>\n",
       "      <th>0</th>\n",
       "      <td>Alabama</td>\n",
       "      <td>5.0</td>\n",
       "      <td>593.0</td>\n",
       "      <td>572.0</td>\n",
       "      <td>1165.0</td>\n",
       "    </tr>\n",
       "    <tr>\n",
       "      <th>1</th>\n",
       "      <td>Alaska</td>\n",
       "      <td>38.0</td>\n",
       "      <td>547.0</td>\n",
       "      <td>533.0</td>\n",
       "      <td>1080.0</td>\n",
       "    </tr>\n",
       "    <tr>\n",
       "      <th>2</th>\n",
       "      <td>Arizona</td>\n",
       "      <td>30.0</td>\n",
       "      <td>563.0</td>\n",
       "      <td>553.0</td>\n",
       "      <td>1116.0</td>\n",
       "    </tr>\n",
       "    <tr>\n",
       "      <th>3</th>\n",
       "      <td>Arkansas</td>\n",
       "      <td>3.0</td>\n",
       "      <td>614.0</td>\n",
       "      <td>594.0</td>\n",
       "      <td>1208.0</td>\n",
       "    </tr>\n",
       "    <tr>\n",
       "      <th>4</th>\n",
       "      <td>California</td>\n",
       "      <td>53.0</td>\n",
       "      <td>531.0</td>\n",
       "      <td>524.0</td>\n",
       "      <td>1055.0</td>\n",
       "    </tr>\n",
       "  </tbody>\n",
       "</table>\n",
       "</div>"
      ],
      "text/plain": [
       "        state  sat_parti_2017  sat_erw_2017  sat_math_2017  sat_total_2017\n",
       "0     Alabama             5.0         593.0          572.0          1165.0\n",
       "1      Alaska            38.0         547.0          533.0          1080.0\n",
       "2     Arizona            30.0         563.0          553.0          1116.0\n",
       "3    Arkansas             3.0         614.0          594.0          1208.0\n",
       "4  California            53.0         531.0          524.0          1055.0"
      ]
     },
     "execution_count": 314,
     "metadata": {},
     "output_type": "execute_result"
    }
   ],
   "source": [
    "#code\n",
    "satdata2017.rename(columns={\n",
    "                                'State' : 'state',\n",
    "                                'Participation' : 'sat_parti_2017',\n",
    "                                'Evidence-Based Reading and Writing' : 'sat_erw_2017',\n",
    "                                'Math' : 'sat_math_2017',\n",
    "                                'Total' : 'sat_total_2017'\n",
    "                                },inplace=True)\n",
    "satdata2017.head()\n"
   ]
  },
  {
   "cell_type": "code",
   "execution_count": 315,
   "metadata": {},
   "outputs": [
    {
     "data": {
      "text/html": [
       "<div>\n",
       "<style scoped>\n",
       "    .dataframe tbody tr th:only-of-type {\n",
       "        vertical-align: middle;\n",
       "    }\n",
       "\n",
       "    .dataframe tbody tr th {\n",
       "        vertical-align: top;\n",
       "    }\n",
       "\n",
       "    .dataframe thead th {\n",
       "        text-align: right;\n",
       "    }\n",
       "</style>\n",
       "<table border=\"1\" class=\"dataframe\">\n",
       "  <thead>\n",
       "    <tr style=\"text-align: right;\">\n",
       "      <th></th>\n",
       "      <th>state</th>\n",
       "      <th>act_parti_2017</th>\n",
       "      <th>act_english_2017</th>\n",
       "      <th>act_math_2017</th>\n",
       "      <th>act_reading_2017</th>\n",
       "      <th>act_science_2017</th>\n",
       "      <th>act_composite_2017</th>\n",
       "    </tr>\n",
       "  </thead>\n",
       "  <tbody>\n",
       "    <tr>\n",
       "      <th>1</th>\n",
       "      <td>Alabama</td>\n",
       "      <td>100.0</td>\n",
       "      <td>18.9</td>\n",
       "      <td>18.4</td>\n",
       "      <td>19.7</td>\n",
       "      <td>19.4</td>\n",
       "      <td>19.2</td>\n",
       "    </tr>\n",
       "    <tr>\n",
       "      <th>2</th>\n",
       "      <td>Alaska</td>\n",
       "      <td>65.0</td>\n",
       "      <td>18.7</td>\n",
       "      <td>19.8</td>\n",
       "      <td>20.4</td>\n",
       "      <td>19.9</td>\n",
       "      <td>19.8</td>\n",
       "    </tr>\n",
       "    <tr>\n",
       "      <th>3</th>\n",
       "      <td>Arizona</td>\n",
       "      <td>62.0</td>\n",
       "      <td>18.6</td>\n",
       "      <td>19.8</td>\n",
       "      <td>20.1</td>\n",
       "      <td>19.8</td>\n",
       "      <td>19.7</td>\n",
       "    </tr>\n",
       "    <tr>\n",
       "      <th>4</th>\n",
       "      <td>Arkansas</td>\n",
       "      <td>100.0</td>\n",
       "      <td>18.9</td>\n",
       "      <td>19.0</td>\n",
       "      <td>19.7</td>\n",
       "      <td>19.5</td>\n",
       "      <td>19.4</td>\n",
       "    </tr>\n",
       "    <tr>\n",
       "      <th>5</th>\n",
       "      <td>California</td>\n",
       "      <td>31.0</td>\n",
       "      <td>22.5</td>\n",
       "      <td>22.7</td>\n",
       "      <td>23.1</td>\n",
       "      <td>22.2</td>\n",
       "      <td>22.8</td>\n",
       "    </tr>\n",
       "  </tbody>\n",
       "</table>\n",
       "</div>"
      ],
      "text/plain": [
       "        state  act_parti_2017  act_english_2017  act_math_2017  \\\n",
       "1     Alabama           100.0              18.9           18.4   \n",
       "2      Alaska            65.0              18.7           19.8   \n",
       "3     Arizona            62.0              18.6           19.8   \n",
       "4    Arkansas           100.0              18.9           19.0   \n",
       "5  California            31.0              22.5           22.7   \n",
       "\n",
       "   act_reading_2017  act_science_2017  act_composite_2017  \n",
       "1              19.7              19.4                19.2  \n",
       "2              20.4              19.9                19.8  \n",
       "3              20.1              19.8                19.7  \n",
       "4              19.7              19.5                19.4  \n",
       "5              23.1              22.2                22.8  "
      ]
     },
     "execution_count": 315,
     "metadata": {},
     "output_type": "execute_result"
    }
   ],
   "source": [
    "\n",
    "actdata2017.rename( columns = {\n",
    "                                'State' : 'state',\n",
    "                                'Participation' : 'act_parti_2017',\n",
    "                                'English' : 'act_english_2017',\n",
    "                                'Math' : 'act_math_2017',\n",
    "                                'Reading' : 'act_reading_2017',\n",
    "                                'Science' : 'act_science_2017',\n",
    "                                'Composite' : 'act_composite_2017'\n",
    "    \n",
    "                                }, inplace = True )                \n",
    "                    \n",
    "actdata2017.head()\n",
    "\n"
   ]
  },
  {
   "cell_type": "markdown",
   "metadata": {},
   "source": [
    "#### 8. Create a data dictionary\n",
    "\n",
    "Now that we've fixed our data, and given it appropriate names, let's create a [data dictionary](http://library.ucmerced.edu/node/10249). \n",
    "\n",
    "A data dictionary provides a quick overview of features/variables/columns, alongside data types and descriptions. The more descriptive you can be, the more useful this document is.\n",
    "\n",
    "Example of a Fictional Data Dictionary Entry: \n",
    "\n",
    "|Feature|Type|Dataset|Description|\n",
    "|---|---|---|---|\n",
    "|**county_pop**|*integer*|2010 census|The population of the county (units in thousands, where 2.5 represents 2500 people).| \n",
    "|**per_poverty**|*float*|2010 census|The percent of the county over the age of 18 living below the 200% of official US poverty rate (units percent to two decimal places 98.10 means 98.1%)|\n",
    "\n",
    "[Here's a quick link to a short guide for formatting markdown in Jupyter notebooks](https://jupyter-notebook.readthedocs.io/en/stable/examples/Notebook/Working%20With%20Markdown%20Cells.html).\n",
    "\n",
    "Provided is the skeleton for formatting a markdown table, with columns headers that will help you create a data dictionary to quickly summarize your data, as well as some examples. **This would be a great thing to copy and paste into your custom README for this project.**"
   ]
  },
  {
   "cell_type": "markdown",
   "metadata": {},
   "source": [
    "|Feature|Type|Dataset|Description|\n",
    "|---|---|---|---|\n",
    "|column name|int/float/object|ACT/SAT|This is an example| \n"
   ]
  },
  {
   "cell_type": "markdown",
   "metadata": {},
   "source": [
    "|Feature|Type|Dataset|Description|\n",
    "|---|---|---|---|\n",
    "|state|object|SAT|State where students took the exam|\n",
    "|sat_parti_2017|float|SAT|Participation rate of each state in 2017 for SAT| \n",
    "|sat_erw_2017|float|SAT|Evidence-Based Reading and Writing score of each state in 2017 for SAT|\n",
    "|sat_math_2017|float|SAT|Math score of each state in 2017 for SAT|\n",
    "|act_parti_2017|float|ACT|Participation rate of each state in 2017 for ACT|\n",
    "|act_english_2017|float|ACT|English score of each state in 2017 for ACT|\n",
    "|act_math_2017|float|ACT|Math score of each state in 2017 for ACT|\n",
    "|act_reading_2017|float|ACT|Reading score of each state in 2017 for ACT|\n",
    "|act_science_2017|float|ACT|Science score of each state in 2017 for ACT|\n",
    "|act_composite_2017|float|ACT|Composite score of each state in 2017 for ACT|\n"
   ]
  },
  {
   "cell_type": "markdown",
   "metadata": {},
   "source": [
    "#### 9. Drop unnecessary rows\n",
    "\n",
    "# One of our dataframes contains an extra row. Identify and remove this from the dataframe.\n"
   ]
  },
  {
   "cell_type": "markdown",
   "metadata": {},
   "source": [
    "#### 10. Merge Dataframes\n",
    "\n",
    "Join the 2017 ACT and SAT dataframes using the state in each dataframe as the key. Assign this to a new variable."
   ]
  },
  {
   "cell_type": "code",
   "execution_count": 316,
   "metadata": {},
   "outputs": [],
   "source": [
    "#Code:\n",
    "sat_act_2017 = pd.merge(satdata2017,actdata2017, on='state', how='left')"
   ]
  },
  {
   "cell_type": "code",
   "execution_count": 317,
   "metadata": {},
   "outputs": [
    {
     "name": "stdout",
     "output_type": "stream",
     "text": [
      "<class 'pandas.core.frame.DataFrame'>\n",
      "Int64Index: 51 entries, 0 to 50\n",
      "Data columns (total 11 columns):\n",
      " #   Column              Non-Null Count  Dtype  \n",
      "---  ------              --------------  -----  \n",
      " 0   state               51 non-null     object \n",
      " 1   sat_parti_2017      51 non-null     float64\n",
      " 2   sat_erw_2017        51 non-null     float32\n",
      " 3   sat_math_2017       51 non-null     float32\n",
      " 4   sat_total_2017      51 non-null     float32\n",
      " 5   act_parti_2017      51 non-null     float64\n",
      " 6   act_english_2017    51 non-null     float64\n",
      " 7   act_math_2017       51 non-null     float64\n",
      " 8   act_reading_2017    51 non-null     float64\n",
      " 9   act_science_2017    51 non-null     float64\n",
      " 10  act_composite_2017  51 non-null     float64\n",
      "dtypes: float32(3), float64(7), object(1)\n",
      "memory usage: 4.2+ KB\n"
     ]
    }
   ],
   "source": [
    "sat_act_2017.info()"
   ]
  },
  {
   "cell_type": "markdown",
   "metadata": {},
   "source": [
    "#### 11. Save your cleaned, merged dataframe\n",
    "\n",
    "Use a relative path to save out your data as `combined_2017.csv`."
   ]
  },
  {
   "cell_type": "code",
   "execution_count": 318,
   "metadata": {},
   "outputs": [],
   "source": [
    "#code\n",
    "sat_act_2017.to_csv('../data/combined_2017.csv')"
   ]
  },
  {
   "cell_type": "markdown",
   "metadata": {},
   "source": [
    "## 2018 Data Import and Cleaning"
   ]
  },
  {
   "cell_type": "markdown",
   "metadata": {},
   "source": [
    "Links to the 2018 ACT and SAT data are provided in the README. These data live in PDFs, and so you'll get to enjoy practicing some *manual* data collection. Save these data as a CSV in your `data` directory, and import, explore, and clean these data in the same way you did above. **Make sure you comment on your steps so it is clear *why* you are doing each process**."
   ]
  },
  {
   "cell_type": "code",
   "execution_count": 319,
   "metadata": {},
   "outputs": [],
   "source": [
    "satdata2018 = pd.read_csv('../data/sat_2018.csv')\n",
    "actdata2018 = pd.read_csv('../data/act_2018_updated.csv')"
   ]
  },
  {
   "cell_type": "markdown",
   "metadata": {},
   "source": [
    "#### Combine your 2017 and 2018 data into a single dataframe\n",
    "Joining on state names should work, assuming you formatted all your state names identically. Make sure none of your columns (other than state) have identical names. Do yourself a favor and decide if you're encoding participation rates as floats or integers and standardize this across your datasets.\n",
    "\n",
    "Save the contents of this merged dataframe as `final.csv`.\n",
    "\n",
    "**Use this combined dataframe for the remainder of the project**."
   ]
  },
  {
   "cell_type": "code",
   "execution_count": 320,
   "metadata": {},
   "outputs": [],
   "source": [
    "\n",
    "# ACT DATA 2018 - formatting\n",
    "# 1) Rename columns with proper description as they are not identical\n",
    "# 2)  ensuring all is float to be consistent\n",
    "\n",
    "actdata2018.rename( columns = {\n",
    "    'State' : 'state',\n",
    "    'Percentage of Students Tested' : 'act_parti_2018',\n",
    "    'Average English Score' : 'act_english_2018',\n",
    "    'Average Math Score' : 'act_math_2018',\n",
    "    'Average Reading Score' : 'act_reading_2018',\n",
    "    'Average Science Score' : 'act_science_2018',\n",
    "    'Average Composite Score' : 'act_composite_2018'\n",
    "    \n",
    "                                }, inplace = True )                \n",
    "                    \n",
    "actdata2018['act_parti_2018'] = actdata2018['act_parti_2018'].map(partici_to_number)\n",
    "\n",
    "# SAT DATA 2018 - formatting\n",
    "# 1) Rename columns with proper description as they are not identical\n",
    "# 2)  ensuring all is float to be consistent\n",
    "\n",
    "satdata2018.rename( columns = {\n",
    "                                'State' : 'state',\n",
    "                                'Participation' : 'sat_parti_2018',\n",
    "                                'Evidence-Based Reading and Writing' : 'sat_erw_2018',\n",
    "                                'Math' : 'sat_math_2018',\n",
    "                                'Total' : 'sat_total_2018'\n",
    "                                },inplace=True)\n",
    "\n",
    "satdata2018['sat_parti_2018'] = satdata2018['sat_parti_2018'].map(partici_to_number)\n",
    "satdata2018['sat_erw_2018'] = satdata2018['sat_erw_2018'].map(partici_to_number)\n",
    "satdata2018['sat_math_2018'] = satdata2018['sat_math_2018'].map(partici_to_number)\n",
    "satdata2018['sat_total_2018'] = satdata2018['sat_total_2018'].map(partici_to_number)\n",
    "\n",
    "\n",
    "\n",
    "\n"
   ]
  },
  {
   "cell_type": "code",
   "execution_count": 321,
   "metadata": {},
   "outputs": [],
   "source": [
    "# Merging of SAT 2018 to existing [ SAT 2017 , ACT 2017 ]\n",
    "\n",
    "sat_act_2017_sat2018 = pd.merge(sat_act_2017,satdata2018, on='state', how='left')"
   ]
  },
  {
   "cell_type": "code",
   "execution_count": 322,
   "metadata": {},
   "outputs": [],
   "source": [
    "# Merging of ACT 2018 to existing [ SAT 2017 , ACT 2017, SAT 2018 ]\n",
    "\n",
    "sat_act_2017_2018 = pd.merge(sat_act_2017_sat2018,actdata2018, on='state', how='left')"
   ]
  },
  {
   "cell_type": "code",
   "execution_count": 323,
   "metadata": {},
   "outputs": [],
   "source": [
    "# Exporting of CSV \n",
    "# SAT 2017 <> SAT 2018 <> ACT 2017 <> ACT 2018\n",
    "\n",
    "sat_act_2017_2018.to_csv('../data/final.csv')"
   ]
  },
  {
   "cell_type": "code",
   "execution_count": 324,
   "metadata": {},
   "outputs": [
    {
     "name": "stdout",
     "output_type": "stream",
     "text": [
      "<class 'pandas.core.frame.DataFrame'>\n",
      "Int64Index: 51 entries, 0 to 50\n",
      "Data columns (total 21 columns):\n",
      " #   Column              Non-Null Count  Dtype  \n",
      "---  ------              --------------  -----  \n",
      " 0   state               51 non-null     object \n",
      " 1   sat_parti_2017      51 non-null     float64\n",
      " 2   sat_erw_2017        51 non-null     float32\n",
      " 3   sat_math_2017       51 non-null     float32\n",
      " 4   sat_total_2017      51 non-null     float32\n",
      " 5   act_parti_2017      51 non-null     float64\n",
      " 6   act_english_2017    51 non-null     float64\n",
      " 7   act_math_2017       51 non-null     float64\n",
      " 8   act_reading_2017    51 non-null     float64\n",
      " 9   act_science_2017    51 non-null     float64\n",
      " 10  act_composite_2017  51 non-null     float64\n",
      " 11  sat_parti_2018      51 non-null     float64\n",
      " 12  sat_erw_2018        51 non-null     float64\n",
      " 13  sat_math_2018       51 non-null     float64\n",
      " 14  sat_total_2018      51 non-null     float64\n",
      " 15  act_parti_2018      51 non-null     float64\n",
      " 16  act_composite_2018  51 non-null     float64\n",
      " 17  act_english_2018    51 non-null     float64\n",
      " 18  act_math_2018       51 non-null     float64\n",
      " 19  act_reading_2018    51 non-null     float64\n",
      " 20  act_science_2018    51 non-null     float64\n",
      "dtypes: float32(3), float64(17), object(1)\n",
      "memory usage: 8.2+ KB\n"
     ]
    }
   ],
   "source": [
    "sat_act_2017_2018.info()"
   ]
  },
  {
   "cell_type": "markdown",
   "metadata": {},
   "source": [
    "## Exploratory Data Analysis\n",
    "\n",
    "\n",
    "### Summary Statistics\n",
    "Transpose the output of pandas `describe` method to create a quick overview of each numeric feature."
   ]
  },
  {
   "cell_type": "code",
   "execution_count": 325,
   "metadata": {},
   "outputs": [
    {
     "data": {
      "text/html": [
       "<div>\n",
       "<style scoped>\n",
       "    .dataframe tbody tr th:only-of-type {\n",
       "        vertical-align: middle;\n",
       "    }\n",
       "\n",
       "    .dataframe tbody tr th {\n",
       "        vertical-align: top;\n",
       "    }\n",
       "\n",
       "    .dataframe thead th {\n",
       "        text-align: right;\n",
       "    }\n",
       "</style>\n",
       "<table border=\"1\" class=\"dataframe\">\n",
       "  <thead>\n",
       "    <tr style=\"text-align: right;\">\n",
       "      <th></th>\n",
       "      <th>count</th>\n",
       "      <th>mean</th>\n",
       "      <th>std</th>\n",
       "      <th>min</th>\n",
       "      <th>25%</th>\n",
       "      <th>50%</th>\n",
       "      <th>75%</th>\n",
       "      <th>max</th>\n",
       "    </tr>\n",
       "  </thead>\n",
       "  <tbody>\n",
       "    <tr>\n",
       "      <th>sat_parti_2017</th>\n",
       "      <td>51.0</td>\n",
       "      <td>39.803922</td>\n",
       "      <td>35.276632</td>\n",
       "      <td>2.0</td>\n",
       "      <td>4.00</td>\n",
       "      <td>38.0</td>\n",
       "      <td>66.00</td>\n",
       "      <td>100.0</td>\n",
       "    </tr>\n",
       "    <tr>\n",
       "      <th>sat_erw_2017</th>\n",
       "      <td>51.0</td>\n",
       "      <td>569.117676</td>\n",
       "      <td>45.666908</td>\n",
       "      <td>482.0</td>\n",
       "      <td>533.50</td>\n",
       "      <td>559.0</td>\n",
       "      <td>613.00</td>\n",
       "      <td>644.0</td>\n",
       "    </tr>\n",
       "    <tr>\n",
       "      <th>sat_math_2017</th>\n",
       "      <td>51.0</td>\n",
       "      <td>556.882324</td>\n",
       "      <td>47.121399</td>\n",
       "      <td>468.0</td>\n",
       "      <td>523.50</td>\n",
       "      <td>548.0</td>\n",
       "      <td>599.00</td>\n",
       "      <td>651.0</td>\n",
       "    </tr>\n",
       "    <tr>\n",
       "      <th>sat_total_2017</th>\n",
       "      <td>51.0</td>\n",
       "      <td>1126.098022</td>\n",
       "      <td>92.494820</td>\n",
       "      <td>950.0</td>\n",
       "      <td>1055.50</td>\n",
       "      <td>1107.0</td>\n",
       "      <td>1212.00</td>\n",
       "      <td>1295.0</td>\n",
       "    </tr>\n",
       "    <tr>\n",
       "      <th>act_parti_2017</th>\n",
       "      <td>51.0</td>\n",
       "      <td>65.254902</td>\n",
       "      <td>32.140842</td>\n",
       "      <td>8.0</td>\n",
       "      <td>31.00</td>\n",
       "      <td>69.0</td>\n",
       "      <td>100.00</td>\n",
       "      <td>100.0</td>\n",
       "    </tr>\n",
       "    <tr>\n",
       "      <th>act_english_2017</th>\n",
       "      <td>51.0</td>\n",
       "      <td>20.931373</td>\n",
       "      <td>2.353677</td>\n",
       "      <td>16.3</td>\n",
       "      <td>19.00</td>\n",
       "      <td>20.7</td>\n",
       "      <td>23.30</td>\n",
       "      <td>25.5</td>\n",
       "    </tr>\n",
       "    <tr>\n",
       "      <th>act_math_2017</th>\n",
       "      <td>51.0</td>\n",
       "      <td>21.182353</td>\n",
       "      <td>1.981989</td>\n",
       "      <td>18.0</td>\n",
       "      <td>19.40</td>\n",
       "      <td>20.9</td>\n",
       "      <td>23.10</td>\n",
       "      <td>25.3</td>\n",
       "    </tr>\n",
       "    <tr>\n",
       "      <th>act_reading_2017</th>\n",
       "      <td>51.0</td>\n",
       "      <td>22.013725</td>\n",
       "      <td>2.067271</td>\n",
       "      <td>18.1</td>\n",
       "      <td>20.45</td>\n",
       "      <td>21.8</td>\n",
       "      <td>24.15</td>\n",
       "      <td>26.0</td>\n",
       "    </tr>\n",
       "    <tr>\n",
       "      <th>act_science_2017</th>\n",
       "      <td>51.0</td>\n",
       "      <td>21.450980</td>\n",
       "      <td>1.739353</td>\n",
       "      <td>18.2</td>\n",
       "      <td>19.95</td>\n",
       "      <td>21.3</td>\n",
       "      <td>23.20</td>\n",
       "      <td>24.9</td>\n",
       "    </tr>\n",
       "    <tr>\n",
       "      <th>act_composite_2017</th>\n",
       "      <td>51.0</td>\n",
       "      <td>21.519608</td>\n",
       "      <td>2.020695</td>\n",
       "      <td>17.8</td>\n",
       "      <td>19.80</td>\n",
       "      <td>21.4</td>\n",
       "      <td>23.60</td>\n",
       "      <td>25.5</td>\n",
       "    </tr>\n",
       "    <tr>\n",
       "      <th>sat_parti_2018</th>\n",
       "      <td>51.0</td>\n",
       "      <td>45.745098</td>\n",
       "      <td>37.314256</td>\n",
       "      <td>2.0</td>\n",
       "      <td>4.50</td>\n",
       "      <td>52.0</td>\n",
       "      <td>77.50</td>\n",
       "      <td>100.0</td>\n",
       "    </tr>\n",
       "    <tr>\n",
       "      <th>sat_erw_2018</th>\n",
       "      <td>51.0</td>\n",
       "      <td>563.686275</td>\n",
       "      <td>47.502627</td>\n",
       "      <td>480.0</td>\n",
       "      <td>534.50</td>\n",
       "      <td>552.0</td>\n",
       "      <td>610.50</td>\n",
       "      <td>643.0</td>\n",
       "    </tr>\n",
       "    <tr>\n",
       "      <th>sat_math_2018</th>\n",
       "      <td>51.0</td>\n",
       "      <td>556.235294</td>\n",
       "      <td>47.772623</td>\n",
       "      <td>480.0</td>\n",
       "      <td>522.50</td>\n",
       "      <td>544.0</td>\n",
       "      <td>593.50</td>\n",
       "      <td>655.0</td>\n",
       "    </tr>\n",
       "    <tr>\n",
       "      <th>sat_total_2018</th>\n",
       "      <td>51.0</td>\n",
       "      <td>1120.019608</td>\n",
       "      <td>94.155083</td>\n",
       "      <td>977.0</td>\n",
       "      <td>1057.50</td>\n",
       "      <td>1098.0</td>\n",
       "      <td>1204.00</td>\n",
       "      <td>1298.0</td>\n",
       "    </tr>\n",
       "    <tr>\n",
       "      <th>act_parti_2018</th>\n",
       "      <td>51.0</td>\n",
       "      <td>61.647059</td>\n",
       "      <td>34.080976</td>\n",
       "      <td>7.0</td>\n",
       "      <td>28.50</td>\n",
       "      <td>66.0</td>\n",
       "      <td>100.00</td>\n",
       "      <td>100.0</td>\n",
       "    </tr>\n",
       "    <tr>\n",
       "      <th>act_composite_2018</th>\n",
       "      <td>51.0</td>\n",
       "      <td>21.486275</td>\n",
       "      <td>2.106278</td>\n",
       "      <td>17.7</td>\n",
       "      <td>19.95</td>\n",
       "      <td>21.3</td>\n",
       "      <td>23.55</td>\n",
       "      <td>25.6</td>\n",
       "    </tr>\n",
       "    <tr>\n",
       "      <th>act_english_2018</th>\n",
       "      <td>51.0</td>\n",
       "      <td>20.988235</td>\n",
       "      <td>2.446356</td>\n",
       "      <td>16.6</td>\n",
       "      <td>19.10</td>\n",
       "      <td>20.2</td>\n",
       "      <td>23.70</td>\n",
       "      <td>26.0</td>\n",
       "    </tr>\n",
       "    <tr>\n",
       "      <th>act_math_2018</th>\n",
       "      <td>51.0</td>\n",
       "      <td>21.125490</td>\n",
       "      <td>2.035765</td>\n",
       "      <td>17.8</td>\n",
       "      <td>19.40</td>\n",
       "      <td>20.7</td>\n",
       "      <td>23.15</td>\n",
       "      <td>25.2</td>\n",
       "    </tr>\n",
       "    <tr>\n",
       "      <th>act_reading_2018</th>\n",
       "      <td>51.0</td>\n",
       "      <td>22.015686</td>\n",
       "      <td>2.167245</td>\n",
       "      <td>18.0</td>\n",
       "      <td>20.45</td>\n",
       "      <td>21.6</td>\n",
       "      <td>24.10</td>\n",
       "      <td>26.1</td>\n",
       "    </tr>\n",
       "    <tr>\n",
       "      <th>act_science_2018</th>\n",
       "      <td>51.0</td>\n",
       "      <td>21.345098</td>\n",
       "      <td>1.870114</td>\n",
       "      <td>17.9</td>\n",
       "      <td>19.85</td>\n",
       "      <td>21.1</td>\n",
       "      <td>23.05</td>\n",
       "      <td>24.9</td>\n",
       "    </tr>\n",
       "  </tbody>\n",
       "</table>\n",
       "</div>"
      ],
      "text/plain": [
       "                    count         mean        std    min      25%     50%  \\\n",
       "sat_parti_2017       51.0    39.803922  35.276632    2.0     4.00    38.0   \n",
       "sat_erw_2017         51.0   569.117676  45.666908  482.0   533.50   559.0   \n",
       "sat_math_2017        51.0   556.882324  47.121399  468.0   523.50   548.0   \n",
       "sat_total_2017       51.0  1126.098022  92.494820  950.0  1055.50  1107.0   \n",
       "act_parti_2017       51.0    65.254902  32.140842    8.0    31.00    69.0   \n",
       "act_english_2017     51.0    20.931373   2.353677   16.3    19.00    20.7   \n",
       "act_math_2017        51.0    21.182353   1.981989   18.0    19.40    20.9   \n",
       "act_reading_2017     51.0    22.013725   2.067271   18.1    20.45    21.8   \n",
       "act_science_2017     51.0    21.450980   1.739353   18.2    19.95    21.3   \n",
       "act_composite_2017   51.0    21.519608   2.020695   17.8    19.80    21.4   \n",
       "sat_parti_2018       51.0    45.745098  37.314256    2.0     4.50    52.0   \n",
       "sat_erw_2018         51.0   563.686275  47.502627  480.0   534.50   552.0   \n",
       "sat_math_2018        51.0   556.235294  47.772623  480.0   522.50   544.0   \n",
       "sat_total_2018       51.0  1120.019608  94.155083  977.0  1057.50  1098.0   \n",
       "act_parti_2018       51.0    61.647059  34.080976    7.0    28.50    66.0   \n",
       "act_composite_2018   51.0    21.486275   2.106278   17.7    19.95    21.3   \n",
       "act_english_2018     51.0    20.988235   2.446356   16.6    19.10    20.2   \n",
       "act_math_2018        51.0    21.125490   2.035765   17.8    19.40    20.7   \n",
       "act_reading_2018     51.0    22.015686   2.167245   18.0    20.45    21.6   \n",
       "act_science_2018     51.0    21.345098   1.870114   17.9    19.85    21.1   \n",
       "\n",
       "                        75%     max  \n",
       "sat_parti_2017        66.00   100.0  \n",
       "sat_erw_2017         613.00   644.0  \n",
       "sat_math_2017        599.00   651.0  \n",
       "sat_total_2017      1212.00  1295.0  \n",
       "act_parti_2017       100.00   100.0  \n",
       "act_english_2017      23.30    25.5  \n",
       "act_math_2017         23.10    25.3  \n",
       "act_reading_2017      24.15    26.0  \n",
       "act_science_2017      23.20    24.9  \n",
       "act_composite_2017    23.60    25.5  \n",
       "sat_parti_2018        77.50   100.0  \n",
       "sat_erw_2018         610.50   643.0  \n",
       "sat_math_2018        593.50   655.0  \n",
       "sat_total_2018      1204.00  1298.0  \n",
       "act_parti_2018       100.00   100.0  \n",
       "act_composite_2018    23.55    25.6  \n",
       "act_english_2018      23.70    26.0  \n",
       "act_math_2018         23.15    25.2  \n",
       "act_reading_2018      24.10    26.1  \n",
       "act_science_2018      23.05    24.9  "
      ]
     },
     "execution_count": 325,
     "metadata": {},
     "output_type": "execute_result"
    }
   ],
   "source": [
    "# Table view of statistical data for all data columns \n",
    "sat_act_2017_2018.describe().T"
   ]
  },
  {
   "cell_type": "markdown",
   "metadata": {},
   "source": [
    "#### Manually calculate standard deviation\n",
    "\n",
    "$$\\sigma = \\sqrt{\\frac{1}{n}\\sum_{i=1}^n(x_i - \\mu)^2}$$\n",
    "\n",
    "- Write a function to calculate standard deviation using the formula above"
   ]
  },
  {
   "cell_type": "code",
   "execution_count": 326,
   "metadata": {
    "scrolled": true
   },
   "outputs": [],
   "source": [
    "# Function for Standard Deviation\n",
    "\n",
    "def std_dev_calc(column_values):\n",
    "    \n",
    "    n = len(column_values)\n",
    "    u = column_values.mean()     \n",
    "    sum_series_xi_minus_u = 0\n",
    "    \n",
    "    for x in column_values:\n",
    "        \n",
    "        square_xi_minus_u = np.square(x-u)\n",
    "        sum_series_xi_minus_u += square_xi_minus_u\n",
    "        \n",
    "    \n",
    "    std_dev = np.sqrt( (1/n) * sum_series_xi_minus_u )\n",
    "    \n",
    "    return std_dev\n",
    "\n",
    "\n"
   ]
  },
  {
   "cell_type": "markdown",
   "metadata": {},
   "source": [
    "- Use a **dictionary comprehension** to apply your standard deviation function to each numeric column in the dataframe.  **No loops**  \n",
    "- Assign the output to variable `sd` as a dictionary where: \n",
    "    - Each column name is now a key \n",
    "    - That standard deviation of the column is the value \n",
    "     \n",
    "*Example Output :* `{'ACT_Math': 120, 'ACT_Reading': 120, ...}`"
   ]
  },
  {
   "cell_type": "code",
   "execution_count": 327,
   "metadata": {},
   "outputs": [],
   "source": [
    "xd = {i:std_dev_calc(sat_act_2017_2018[i]) for i in sat_act_2017_2018.columns if i !='state'}"
   ]
  },
  {
   "cell_type": "code",
   "execution_count": 328,
   "metadata": {},
   "outputs": [
    {
     "name": "stdout",
     "output_type": "stream",
     "text": [
      "{'sat_parti_2017': 34.92907076664508, 'sat_erw_2017': 45.216970204387785, 'sat_math_2017': 46.65713364486388, 'sat_total_2017': 91.58351056778895, 'act_parti_2017': 31.824175751231806, 'act_english_2017': 2.3304876369363363, 'act_math_2017': 1.9624620273436781, 'act_reading_2017': 2.0469029314842646, 'act_science_2017': 1.7222161451443676, 'act_composite_2017': 2.000786081581989, 'sat_parti_2018': 36.946619223539415, 'sat_erw_2018': 47.03460978357609, 'sat_math_2018': 47.30194550378352, 'sat_total_2018': 93.22742384464433, 'act_parti_2018': 33.745194881997506, 'act_composite_2018': 2.0855261815801147, 'act_english_2018': 2.4222536143202795, 'act_math_2018': 2.015707255555717, 'act_reading_2018': 2.145891884510421, 'act_science_2018': 1.8516885484833543}\n"
     ]
    }
   ],
   "source": [
    "print(xd)"
   ]
  },
  {
   "cell_type": "markdown",
   "metadata": {},
   "source": [
    "Do your manually calculated standard deviations match up with the output from pandas `describe`? What about numpy's `std` method?"
   ]
  },
  {
   "cell_type": "markdown",
   "metadata": {},
   "source": [
    "Answer\n",
    "\n",
    "My function for standard deviation tallies with numpy's std method, but not for pandas describe\n",
    "This is due to degree of freedom"
   ]
  },
  {
   "cell_type": "code",
   "execution_count": 329,
   "metadata": {},
   "outputs": [
    {
     "data": {
      "text/html": [
       "<div>\n",
       "<style scoped>\n",
       "    .dataframe tbody tr th:only-of-type {\n",
       "        vertical-align: middle;\n",
       "    }\n",
       "\n",
       "    .dataframe tbody tr th {\n",
       "        vertical-align: top;\n",
       "    }\n",
       "\n",
       "    .dataframe thead th {\n",
       "        text-align: right;\n",
       "    }\n",
       "</style>\n",
       "<table border=\"1\" class=\"dataframe\">\n",
       "  <thead>\n",
       "    <tr style=\"text-align: right;\">\n",
       "      <th></th>\n",
       "      <th>count</th>\n",
       "      <th>mean</th>\n",
       "      <th>std</th>\n",
       "      <th>min</th>\n",
       "      <th>25%</th>\n",
       "      <th>50%</th>\n",
       "      <th>75%</th>\n",
       "      <th>max</th>\n",
       "    </tr>\n",
       "  </thead>\n",
       "  <tbody>\n",
       "    <tr>\n",
       "      <th>sat_parti_2017</th>\n",
       "      <td>51.0</td>\n",
       "      <td>39.803922</td>\n",
       "      <td>35.276632</td>\n",
       "      <td>2.0</td>\n",
       "      <td>4.00</td>\n",
       "      <td>38.0</td>\n",
       "      <td>66.00</td>\n",
       "      <td>100.0</td>\n",
       "    </tr>\n",
       "    <tr>\n",
       "      <th>sat_erw_2017</th>\n",
       "      <td>51.0</td>\n",
       "      <td>569.117676</td>\n",
       "      <td>45.666908</td>\n",
       "      <td>482.0</td>\n",
       "      <td>533.50</td>\n",
       "      <td>559.0</td>\n",
       "      <td>613.00</td>\n",
       "      <td>644.0</td>\n",
       "    </tr>\n",
       "    <tr>\n",
       "      <th>sat_math_2017</th>\n",
       "      <td>51.0</td>\n",
       "      <td>556.882324</td>\n",
       "      <td>47.121399</td>\n",
       "      <td>468.0</td>\n",
       "      <td>523.50</td>\n",
       "      <td>548.0</td>\n",
       "      <td>599.00</td>\n",
       "      <td>651.0</td>\n",
       "    </tr>\n",
       "    <tr>\n",
       "      <th>sat_total_2017</th>\n",
       "      <td>51.0</td>\n",
       "      <td>1126.098022</td>\n",
       "      <td>92.494820</td>\n",
       "      <td>950.0</td>\n",
       "      <td>1055.50</td>\n",
       "      <td>1107.0</td>\n",
       "      <td>1212.00</td>\n",
       "      <td>1295.0</td>\n",
       "    </tr>\n",
       "    <tr>\n",
       "      <th>act_parti_2017</th>\n",
       "      <td>51.0</td>\n",
       "      <td>65.254902</td>\n",
       "      <td>32.140842</td>\n",
       "      <td>8.0</td>\n",
       "      <td>31.00</td>\n",
       "      <td>69.0</td>\n",
       "      <td>100.00</td>\n",
       "      <td>100.0</td>\n",
       "    </tr>\n",
       "    <tr>\n",
       "      <th>act_english_2017</th>\n",
       "      <td>51.0</td>\n",
       "      <td>20.931373</td>\n",
       "      <td>2.353677</td>\n",
       "      <td>16.3</td>\n",
       "      <td>19.00</td>\n",
       "      <td>20.7</td>\n",
       "      <td>23.30</td>\n",
       "      <td>25.5</td>\n",
       "    </tr>\n",
       "    <tr>\n",
       "      <th>act_math_2017</th>\n",
       "      <td>51.0</td>\n",
       "      <td>21.182353</td>\n",
       "      <td>1.981989</td>\n",
       "      <td>18.0</td>\n",
       "      <td>19.40</td>\n",
       "      <td>20.9</td>\n",
       "      <td>23.10</td>\n",
       "      <td>25.3</td>\n",
       "    </tr>\n",
       "    <tr>\n",
       "      <th>act_reading_2017</th>\n",
       "      <td>51.0</td>\n",
       "      <td>22.013725</td>\n",
       "      <td>2.067271</td>\n",
       "      <td>18.1</td>\n",
       "      <td>20.45</td>\n",
       "      <td>21.8</td>\n",
       "      <td>24.15</td>\n",
       "      <td>26.0</td>\n",
       "    </tr>\n",
       "    <tr>\n",
       "      <th>act_science_2017</th>\n",
       "      <td>51.0</td>\n",
       "      <td>21.450980</td>\n",
       "      <td>1.739353</td>\n",
       "      <td>18.2</td>\n",
       "      <td>19.95</td>\n",
       "      <td>21.3</td>\n",
       "      <td>23.20</td>\n",
       "      <td>24.9</td>\n",
       "    </tr>\n",
       "    <tr>\n",
       "      <th>act_composite_2017</th>\n",
       "      <td>51.0</td>\n",
       "      <td>21.519608</td>\n",
       "      <td>2.020695</td>\n",
       "      <td>17.8</td>\n",
       "      <td>19.80</td>\n",
       "      <td>21.4</td>\n",
       "      <td>23.60</td>\n",
       "      <td>25.5</td>\n",
       "    </tr>\n",
       "    <tr>\n",
       "      <th>sat_parti_2018</th>\n",
       "      <td>51.0</td>\n",
       "      <td>45.745098</td>\n",
       "      <td>37.314256</td>\n",
       "      <td>2.0</td>\n",
       "      <td>4.50</td>\n",
       "      <td>52.0</td>\n",
       "      <td>77.50</td>\n",
       "      <td>100.0</td>\n",
       "    </tr>\n",
       "    <tr>\n",
       "      <th>sat_erw_2018</th>\n",
       "      <td>51.0</td>\n",
       "      <td>563.686275</td>\n",
       "      <td>47.502627</td>\n",
       "      <td>480.0</td>\n",
       "      <td>534.50</td>\n",
       "      <td>552.0</td>\n",
       "      <td>610.50</td>\n",
       "      <td>643.0</td>\n",
       "    </tr>\n",
       "    <tr>\n",
       "      <th>sat_math_2018</th>\n",
       "      <td>51.0</td>\n",
       "      <td>556.235294</td>\n",
       "      <td>47.772623</td>\n",
       "      <td>480.0</td>\n",
       "      <td>522.50</td>\n",
       "      <td>544.0</td>\n",
       "      <td>593.50</td>\n",
       "      <td>655.0</td>\n",
       "    </tr>\n",
       "    <tr>\n",
       "      <th>sat_total_2018</th>\n",
       "      <td>51.0</td>\n",
       "      <td>1120.019608</td>\n",
       "      <td>94.155083</td>\n",
       "      <td>977.0</td>\n",
       "      <td>1057.50</td>\n",
       "      <td>1098.0</td>\n",
       "      <td>1204.00</td>\n",
       "      <td>1298.0</td>\n",
       "    </tr>\n",
       "    <tr>\n",
       "      <th>act_parti_2018</th>\n",
       "      <td>51.0</td>\n",
       "      <td>61.647059</td>\n",
       "      <td>34.080976</td>\n",
       "      <td>7.0</td>\n",
       "      <td>28.50</td>\n",
       "      <td>66.0</td>\n",
       "      <td>100.00</td>\n",
       "      <td>100.0</td>\n",
       "    </tr>\n",
       "    <tr>\n",
       "      <th>act_composite_2018</th>\n",
       "      <td>51.0</td>\n",
       "      <td>21.486275</td>\n",
       "      <td>2.106278</td>\n",
       "      <td>17.7</td>\n",
       "      <td>19.95</td>\n",
       "      <td>21.3</td>\n",
       "      <td>23.55</td>\n",
       "      <td>25.6</td>\n",
       "    </tr>\n",
       "    <tr>\n",
       "      <th>act_english_2018</th>\n",
       "      <td>51.0</td>\n",
       "      <td>20.988235</td>\n",
       "      <td>2.446356</td>\n",
       "      <td>16.6</td>\n",
       "      <td>19.10</td>\n",
       "      <td>20.2</td>\n",
       "      <td>23.70</td>\n",
       "      <td>26.0</td>\n",
       "    </tr>\n",
       "    <tr>\n",
       "      <th>act_math_2018</th>\n",
       "      <td>51.0</td>\n",
       "      <td>21.125490</td>\n",
       "      <td>2.035765</td>\n",
       "      <td>17.8</td>\n",
       "      <td>19.40</td>\n",
       "      <td>20.7</td>\n",
       "      <td>23.15</td>\n",
       "      <td>25.2</td>\n",
       "    </tr>\n",
       "    <tr>\n",
       "      <th>act_reading_2018</th>\n",
       "      <td>51.0</td>\n",
       "      <td>22.015686</td>\n",
       "      <td>2.167245</td>\n",
       "      <td>18.0</td>\n",
       "      <td>20.45</td>\n",
       "      <td>21.6</td>\n",
       "      <td>24.10</td>\n",
       "      <td>26.1</td>\n",
       "    </tr>\n",
       "    <tr>\n",
       "      <th>act_science_2018</th>\n",
       "      <td>51.0</td>\n",
       "      <td>21.345098</td>\n",
       "      <td>1.870114</td>\n",
       "      <td>17.9</td>\n",
       "      <td>19.85</td>\n",
       "      <td>21.1</td>\n",
       "      <td>23.05</td>\n",
       "      <td>24.9</td>\n",
       "    </tr>\n",
       "  </tbody>\n",
       "</table>\n",
       "</div>"
      ],
      "text/plain": [
       "                    count         mean        std    min      25%     50%  \\\n",
       "sat_parti_2017       51.0    39.803922  35.276632    2.0     4.00    38.0   \n",
       "sat_erw_2017         51.0   569.117676  45.666908  482.0   533.50   559.0   \n",
       "sat_math_2017        51.0   556.882324  47.121399  468.0   523.50   548.0   \n",
       "sat_total_2017       51.0  1126.098022  92.494820  950.0  1055.50  1107.0   \n",
       "act_parti_2017       51.0    65.254902  32.140842    8.0    31.00    69.0   \n",
       "act_english_2017     51.0    20.931373   2.353677   16.3    19.00    20.7   \n",
       "act_math_2017        51.0    21.182353   1.981989   18.0    19.40    20.9   \n",
       "act_reading_2017     51.0    22.013725   2.067271   18.1    20.45    21.8   \n",
       "act_science_2017     51.0    21.450980   1.739353   18.2    19.95    21.3   \n",
       "act_composite_2017   51.0    21.519608   2.020695   17.8    19.80    21.4   \n",
       "sat_parti_2018       51.0    45.745098  37.314256    2.0     4.50    52.0   \n",
       "sat_erw_2018         51.0   563.686275  47.502627  480.0   534.50   552.0   \n",
       "sat_math_2018        51.0   556.235294  47.772623  480.0   522.50   544.0   \n",
       "sat_total_2018       51.0  1120.019608  94.155083  977.0  1057.50  1098.0   \n",
       "act_parti_2018       51.0    61.647059  34.080976    7.0    28.50    66.0   \n",
       "act_composite_2018   51.0    21.486275   2.106278   17.7    19.95    21.3   \n",
       "act_english_2018     51.0    20.988235   2.446356   16.6    19.10    20.2   \n",
       "act_math_2018        51.0    21.125490   2.035765   17.8    19.40    20.7   \n",
       "act_reading_2018     51.0    22.015686   2.167245   18.0    20.45    21.6   \n",
       "act_science_2018     51.0    21.345098   1.870114   17.9    19.85    21.1   \n",
       "\n",
       "                        75%     max  \n",
       "sat_parti_2017        66.00   100.0  \n",
       "sat_erw_2017         613.00   644.0  \n",
       "sat_math_2017        599.00   651.0  \n",
       "sat_total_2017      1212.00  1295.0  \n",
       "act_parti_2017       100.00   100.0  \n",
       "act_english_2017      23.30    25.5  \n",
       "act_math_2017         23.10    25.3  \n",
       "act_reading_2017      24.15    26.0  \n",
       "act_science_2017      23.20    24.9  \n",
       "act_composite_2017    23.60    25.5  \n",
       "sat_parti_2018        77.50   100.0  \n",
       "sat_erw_2018         610.50   643.0  \n",
       "sat_math_2018        593.50   655.0  \n",
       "sat_total_2018      1204.00  1298.0  \n",
       "act_parti_2018       100.00   100.0  \n",
       "act_composite_2018    23.55    25.6  \n",
       "act_english_2018      23.70    26.0  \n",
       "act_math_2018         23.15    25.2  \n",
       "act_reading_2018      24.10    26.1  \n",
       "act_science_2018      23.05    24.9  "
      ]
     },
     "execution_count": 329,
     "metadata": {},
     "output_type": "execute_result"
    }
   ],
   "source": [
    "sat_act_2017_2018.describe().T"
   ]
  },
  {
   "cell_type": "code",
   "execution_count": 330,
   "metadata": {},
   "outputs": [
    {
     "data": {
      "text/plain": [
       "sat_parti_2017        34.929071\n",
       "sat_erw_2017          45.216976\n",
       "sat_math_2017         46.657139\n",
       "sat_total_2017        91.583511\n",
       "act_parti_2017        31.824176\n",
       "act_english_2017       2.330488\n",
       "act_math_2017          1.962462\n",
       "act_reading_2017       2.046903\n",
       "act_science_2017       1.722216\n",
       "act_composite_2017     2.000786\n",
       "sat_parti_2018        36.946619\n",
       "sat_erw_2018          47.034610\n",
       "sat_math_2018         47.301946\n",
       "sat_total_2018        93.227424\n",
       "act_parti_2018        33.745195\n",
       "act_composite_2018     2.085526\n",
       "act_english_2018       2.422254\n",
       "act_math_2018          2.015707\n",
       "act_reading_2018       2.145892\n",
       "act_science_2018       1.851689\n",
       "dtype: float64"
      ]
     },
     "execution_count": 330,
     "metadata": {},
     "output_type": "execute_result"
    }
   ],
   "source": [
    "np.std(sat_act_2017_2018)"
   ]
  },
  {
   "cell_type": "markdown",
   "metadata": {},
   "source": [
    "#### Investigate trends in the data\n",
    "Using sorting and/or masking (along with the `.head` method to not print our entire dataframe), consider the following questions:\n",
    "\n",
    "- Which states have the highest and lowest participation rates for the:\n",
    "    - 2017 SAT?\n",
    "    - 2018 SAT?\n",
    "    - 2017 ACT?\n",
    "    - 2018 ACT?\n",
    "- Which states have the highest and lowest mean total/composite scores for the:\n",
    "    - 2017 SAT?\n",
    "    - 2018 SAT?\n",
    "    - 2017 ACT?\n",
    "    - 2018 ACT?\n",
    "- Do any states with 100% participation on a given test have a rate change year-to-year?\n",
    "- Do any states show have >50% participation on *both* tests either year?\n",
    "\n",
    "Based on what you've just observed, have you identified any states that you're especially interested in? **Make a note of these and state *why* you think they're interesting**.\n",
    "\n",
    "**You should comment on your findings at each step in a markdown cell below your code block**. Make sure you include at least one example of sorting your dataframe by a column, and one example of using boolean filtering (i.e., masking) to select a subset of the dataframe."
   ]
  },
  {
   "cell_type": "code",
   "execution_count": 331,
   "metadata": {
    "scrolled": true
   },
   "outputs": [
    {
     "name": "stdout",
     "output_type": "stream",
     "text": [
      "                   state  sat_parti_2017  sat_erw_2017  sat_math_2017  \\\n",
      "6            Connecticut           100.0         530.0          512.0   \n",
      "7               Delaware           100.0         503.0          492.0   \n",
      "8   District of Columbia           100.0         482.0          468.0   \n",
      "22              Michigan           100.0         509.0          495.0   \n",
      "\n",
      "    sat_total_2017  act_parti_2017  act_english_2017  act_math_2017  \\\n",
      "6           1041.0            31.0              25.5           24.6   \n",
      "7            996.0            18.0              24.1           23.4   \n",
      "8            950.0            32.0              24.4           23.5   \n",
      "22          1005.0            29.0              24.1           23.7   \n",
      "\n",
      "    act_reading_2017  act_science_2017  ...  sat_parti_2018  sat_erw_2018  \\\n",
      "6               25.6              24.6  ...           100.0         535.0   \n",
      "7               24.8              23.6  ...           100.0         505.0   \n",
      "8               24.9              23.5  ...            92.0         497.0   \n",
      "22              24.5              23.8  ...           100.0         511.0   \n",
      "\n",
      "    sat_math_2018  sat_total_2018  act_parti_2018  act_composite_2018  \\\n",
      "6           519.0          1053.0            26.0                25.6   \n",
      "7           492.0           998.0            17.0                23.2   \n",
      "8           480.0           977.0            32.0                23.6   \n",
      "22          499.0          1011.0            22.0                24.4   \n",
      "\n",
      "    act_english_2018  act_math_2018  act_reading_2018  act_science_2018  \n",
      "6               26.0           24.8              26.1              24.9  \n",
      "7               23.7           23.1              24.5              23.4  \n",
      "8               23.7           22.7              24.4              23.0  \n",
      "22              24.5           23.9              24.7              23.9  \n",
      "\n",
      "[4 rows x 21 columns]\n",
      "           state  sat_parti_2017  sat_erw_2017  sat_math_2017  sat_total_2017  \\\n",
      "15          Iowa             2.0         641.0          635.0          1275.0   \n",
      "24   Mississippi             2.0         634.0          607.0          1242.0   \n",
      "34  North Dakota             2.0         635.0          621.0          1256.0   \n",
      "\n",
      "    act_parti_2017  act_english_2017  act_math_2017  act_reading_2017  \\\n",
      "15            67.0              21.2           21.3              22.6   \n",
      "24           100.0              18.2           18.1              18.8   \n",
      "34            98.0              19.0           20.4              20.5   \n",
      "\n",
      "    act_science_2017  ...  sat_parti_2018  sat_erw_2018  sat_math_2018  \\\n",
      "15              22.1  ...             3.0         634.0          631.0   \n",
      "24              18.8  ...             3.0         630.0          606.0   \n",
      "34              20.6  ...             2.0         640.0          643.0   \n",
      "\n",
      "    sat_total_2018  act_parti_2018  act_composite_2018  act_english_2018  \\\n",
      "15          1265.0            68.0                21.8              21.0   \n",
      "24          1236.0           100.0                18.6              18.2   \n",
      "34          1283.0            98.0                20.3              19.1   \n",
      "\n",
      "    act_math_2018  act_reading_2018  act_science_2018  \n",
      "15           21.2              22.5              22.0  \n",
      "24           18.1              18.9              18.6  \n",
      "34           20.3              20.7              20.5  \n",
      "\n",
      "[3 rows x 21 columns]\n"
     ]
    }
   ],
   "source": [
    "#code\n",
    "\n",
    "# 2017 SAT : Participation Rate\n",
    "# Method 1 : sorting \n",
    "# Method 2 : masking with criteria setting\n",
    "\n",
    "# SAT 2017 : Highest Participation Rate\n",
    "# Method 1 \n",
    "sat_act_2017_2018.sort_values('sat_parti_2017',ascending = False).head()\n",
    "# Method 2 \n",
    "highest_sat_parti_2017 = sat_act_2017_2018['sat_parti_2017'] > 99\n",
    "print(sat_act_2017_2018[highest_sat_parti_2017])\n",
    "\n",
    "\n",
    "# SAT 2017 : Lowest Participation Rate\n",
    "# Method 1 \n",
    "sat_act_2017_2018.sort_values('sat_parti_2017').head()\n",
    "# Method 2 \n",
    "lowest_sat_parti_2017 = sat_act_2017_2018['sat_parti_2017'] < 3\n",
    "print(sat_act_2017_2018[lowest_sat_parti_2017])"
   ]
  },
  {
   "cell_type": "markdown",
   "metadata": {},
   "source": [
    "SAT 2017\n",
    "HIGHEST Participation Rate \n",
    "\n",
    "For SAT 2017, through sorting dataframe by a column,  through masking of criteria of > 99, the highest participation rate states, are\n",
    "District of Columbia\n",
    "Michigan\n",
    "Connecticut\n",
    "Delaware \n",
    "These states have a participation rate of 100.0, as the next highest participation rate is 96.0"
   ]
  },
  {
   "cell_type": "markdown",
   "metadata": {},
   "source": [
    "SAT 2017\n",
    "LOWEST Participation Rate\n",
    "\n",
    "For SAT 2017, through sorting dataframe by a column, through masking of criteria of < 3, th lowest participation rate states, are\n",
    "North Dakota\n",
    "Mississippi\n",
    "Iowa\n",
    " \n",
    "These states have a participation rate of 2.0, the next lowest participation rate is 3.0"
   ]
  },
  {
   "cell_type": "code",
   "execution_count": 332,
   "metadata": {
    "scrolled": true
   },
   "outputs": [
    {
     "name": "stdout",
     "output_type": "stream",
     "text": [
      "           state  sat_parti_2017  sat_erw_2017  sat_math_2017  sat_total_2017  \\\n",
      "5       Colorado            11.0         606.0          595.0          1201.0   \n",
      "6    Connecticut           100.0         530.0          512.0          1041.0   \n",
      "7       Delaware           100.0         503.0          492.0           996.0   \n",
      "22      Michigan           100.0         509.0          495.0          1005.0   \n",
      "12         Idaho            93.0         513.0          493.0          1005.0   \n",
      "19         Maine            95.0         513.0          499.0          1012.0   \n",
      "13      Illinois             9.0         559.0          556.0          1115.0   \n",
      "39  Rhode Island            71.0         539.0          524.0          1062.0   \n",
      "\n",
      "    act_parti_2017  act_english_2017  act_math_2017  act_reading_2017  \\\n",
      "5            100.0              20.1           20.3              21.2   \n",
      "6             31.0              25.5           24.6              25.6   \n",
      "7             18.0              24.1           23.4              24.8   \n",
      "22            29.0              24.1           23.7              24.5   \n",
      "12            38.0              21.9           21.8              23.0   \n",
      "19             8.0              24.2           24.0              24.8   \n",
      "13            93.0              21.0           21.2              21.6   \n",
      "39            21.0              24.0           23.3              24.7   \n",
      "\n",
      "    act_science_2017  ...  sat_parti_2018  sat_erw_2018  sat_math_2018  \\\n",
      "5               20.9  ...           100.0         519.0          506.0   \n",
      "6               24.6  ...           100.0         535.0          519.0   \n",
      "7               23.6  ...           100.0         505.0          492.0   \n",
      "22              23.8  ...           100.0         511.0          499.0   \n",
      "12              22.1  ...           100.0         508.0          493.0   \n",
      "19              23.7  ...            99.0         512.0          501.0   \n",
      "13              21.3  ...            99.0         513.0          506.0   \n",
      "39              23.4  ...            97.0         513.0          505.0   \n",
      "\n",
      "    sat_total_2018  act_parti_2018  act_composite_2018  act_english_2018  \\\n",
      "5           1025.0            30.0                23.9              23.9   \n",
      "6           1053.0            26.0                25.6              26.0   \n",
      "7            998.0            17.0                23.2              23.7   \n",
      "22          1011.0            22.0                24.4              24.5   \n",
      "12          1001.0            36.0                22.3              21.9   \n",
      "19          1013.0             7.0                24.0              23.8   \n",
      "13          1019.0            43.0                23.9              24.1   \n",
      "39          1018.0            15.0                24.2              24.4   \n",
      "\n",
      "    act_math_2018  act_reading_2018  act_science_2018  \n",
      "5            23.2              24.4              23.5  \n",
      "6            24.8              26.1              24.9  \n",
      "7            23.1              24.5              23.4  \n",
      "22           23.9              24.7              23.9  \n",
      "12           21.6              23.2              22.1  \n",
      "19           23.6              24.7              23.4  \n",
      "13           23.4              24.2              23.4  \n",
      "39           23.6              25.0              23.5  \n",
      "\n",
      "[8 rows x 21 columns]\n",
      "          state  sat_parti_2017  sat_erw_2017  sat_math_2017  sat_total_2017  \\\n",
      "5      Colorado            11.0         606.0          595.0          1201.0   \n",
      "6   Connecticut           100.0         530.0          512.0          1041.0   \n",
      "7      Delaware           100.0         503.0          492.0           996.0   \n",
      "12        Idaho            93.0         513.0          493.0          1005.0   \n",
      "22     Michigan           100.0         509.0          495.0          1005.0   \n",
      "\n",
      "    act_parti_2017  act_english_2017  act_math_2017  act_reading_2017  \\\n",
      "5            100.0              20.1           20.3              21.2   \n",
      "6             31.0              25.5           24.6              25.6   \n",
      "7             18.0              24.1           23.4              24.8   \n",
      "12            38.0              21.9           21.8              23.0   \n",
      "22            29.0              24.1           23.7              24.5   \n",
      "\n",
      "    act_science_2017  ...  sat_parti_2018  sat_erw_2018  sat_math_2018  \\\n",
      "5               20.9  ...           100.0         519.0          506.0   \n",
      "6               24.6  ...           100.0         535.0          519.0   \n",
      "7               23.6  ...           100.0         505.0          492.0   \n",
      "12              22.1  ...           100.0         508.0          493.0   \n",
      "22              23.8  ...           100.0         511.0          499.0   \n",
      "\n",
      "    sat_total_2018  act_parti_2018  act_composite_2018  act_english_2018  \\\n",
      "5           1025.0            30.0                23.9              23.9   \n",
      "6           1053.0            26.0                25.6              26.0   \n",
      "7            998.0            17.0                23.2              23.7   \n",
      "12          1001.0            36.0                22.3              21.9   \n",
      "22          1011.0            22.0                24.4              24.5   \n",
      "\n",
      "    act_math_2018  act_reading_2018  act_science_2018  \n",
      "5            23.2              24.4              23.5  \n",
      "6            24.8              26.1              24.9  \n",
      "7            23.1              24.5              23.4  \n",
      "12           21.6              23.2              22.1  \n",
      "22           23.9              24.7              23.9  \n",
      "\n",
      "[5 rows x 21 columns]\n",
      "           state  sat_parti_2017  sat_erw_2017  sat_math_2017  sat_total_2017  \\\n",
      "34  North Dakota             2.0         635.0          621.0          1256.0   \n",
      "50       Wyoming             3.0         626.0          604.0          1230.0   \n",
      "41  South Dakota             3.0         612.0          603.0          1216.0   \n",
      "27      Nebraska             3.0         629.0          625.0          1253.0   \n",
      "49     Wisconsin             3.0         642.0          649.0          1291.0   \n",
      "\n",
      "    act_parti_2017  act_english_2017  act_math_2017  act_reading_2017  \\\n",
      "34            98.0              19.0           20.4              20.5   \n",
      "50           100.0              19.4           19.8              20.8   \n",
      "41            80.0              20.7           21.5              22.3   \n",
      "27            84.0              20.9           20.9              21.9   \n",
      "49           100.0              19.7           20.4              20.6   \n",
      "\n",
      "    act_science_2017  ...  sat_parti_2018  sat_erw_2018  sat_math_2018  \\\n",
      "34              20.6  ...             2.0         640.0          643.0   \n",
      "50              20.6  ...             3.0         633.0          625.0   \n",
      "41              22.0  ...             3.0         622.0          618.0   \n",
      "27              21.5  ...             3.0         629.0          623.0   \n",
      "49              20.9  ...             3.0         641.0          653.0   \n",
      "\n",
      "    sat_total_2018  act_parti_2018  act_composite_2018  act_english_2018  \\\n",
      "34          1283.0            98.0                20.3              19.1   \n",
      "50          1257.0           100.0                20.0              19.0   \n",
      "41          1240.0            77.0                21.9              20.8   \n",
      "27          1252.0           100.0                20.1              19.4   \n",
      "49          1294.0           100.0                20.5              19.8   \n",
      "\n",
      "    act_math_2018  act_reading_2018  act_science_2018  \n",
      "34           20.3              20.7              20.5  \n",
      "50           19.7              20.6              20.3  \n",
      "41           21.6              22.4              22.2  \n",
      "27           19.8              20.4              20.1  \n",
      "49           20.3              20.6              20.8  \n",
      "\n",
      "[5 rows x 21 columns]\n",
      "           state  sat_parti_2017  sat_erw_2017  sat_math_2017  sat_total_2017  \\\n",
      "15          Iowa             2.0         641.0          635.0          1275.0   \n",
      "24   Mississippi             2.0         634.0          607.0          1242.0   \n",
      "34  North Dakota             2.0         635.0          621.0          1256.0   \n",
      "\n",
      "    act_parti_2017  act_english_2017  act_math_2017  act_reading_2017  \\\n",
      "15            67.0              21.2           21.3              22.6   \n",
      "24           100.0              18.2           18.1              18.8   \n",
      "34            98.0              19.0           20.4              20.5   \n",
      "\n",
      "    act_science_2017  ...  sat_parti_2018  sat_erw_2018  sat_math_2018  \\\n",
      "15              22.1  ...             3.0         634.0          631.0   \n",
      "24              18.8  ...             3.0         630.0          606.0   \n",
      "34              20.6  ...             2.0         640.0          643.0   \n",
      "\n",
      "    sat_total_2018  act_parti_2018  act_composite_2018  act_english_2018  \\\n",
      "15          1265.0            68.0                21.8              21.0   \n",
      "24          1236.0           100.0                18.6              18.2   \n",
      "34          1283.0            98.0                20.3              19.1   \n",
      "\n",
      "    act_math_2018  act_reading_2018  act_science_2018  \n",
      "15           21.2              22.5              22.0  \n",
      "24           18.1              18.9              18.6  \n",
      "34           20.3              20.7              20.5  \n",
      "\n",
      "[3 rows x 21 columns]\n"
     ]
    }
   ],
   "source": [
    "# 2018 SAT : Participation Rate\n",
    "# Method 1 : sorting \n",
    "# Method 2 : masking with criteria setting\n",
    "\n",
    "# SAT 2018 : HIGHEST Participation Rate\n",
    "# Method 1 :\n",
    "print(sat_act_2017_2018.sort_values('sat_parti_2018',ascending = False).head(8))\n",
    "\n",
    "# Method 2 \n",
    "highest_sat_parti_2018 = sat_act_2017_2018['sat_parti_2018'] > 99\n",
    "print(sat_act_2017_2018[highest_sat_parti_2018])\n",
    "\n",
    "\n",
    "# SAT 2018 : LOWEST Participation Rate\n",
    "# Method 1 \n",
    "print(sat_act_2017_2018.sort_values('sat_parti_2018').head())\n",
    "# Method 2 \n",
    "lowest_sat_parti_2018 = sat_act_2017_2018['sat_parti_2018'] < 3\n",
    "print(sat_act_2017_2018[lowest_sat_parti_2017])"
   ]
  },
  {
   "cell_type": "markdown",
   "metadata": {},
   "source": [
    "SAT 2018\n",
    "HIGHEST Participation Rate \n",
    "\n",
    "For SAT 2017, through sorting dataframe by a column,  through masking of criteria of > 99, the highest participation rate states, are\n",
    "Colorado\n",
    "Connecticut\n",
    "Delaware \n",
    "Michigan\n",
    "Idaho\n",
    "These states have a participation rate of 100.0, as the next highest participation rate is 99.0"
   ]
  },
  {
   "cell_type": "markdown",
   "metadata": {},
   "source": [
    "SAT 2018\n",
    "LOWEST Participation Rate\n",
    "\n",
    "For SAT 2018, through sorting dataframe by a column, through masking of criteria of < 3, th lowest participation rate states, are\n",
    "North Dakota\n",
    "\n",
    "These states have a participation rate of 2.0, the next lowest participation rate is 3.0"
   ]
  },
  {
   "cell_type": "code",
   "execution_count": 333,
   "metadata": {},
   "outputs": [
    {
     "name": "stdout",
     "output_type": "stream",
     "text": [
      "             state  sat_parti_2017  sat_erw_2017  sat_math_2017  \\\n",
      "0          Alabama             5.0         593.0          572.0   \n",
      "17        Kentucky             4.0         631.0          616.0   \n",
      "49       Wisconsin             3.0         642.0          649.0   \n",
      "44            Utah             3.0         624.0          614.0   \n",
      "42       Tennessee             5.0         623.0          604.0   \n",
      "40  South Carolina            50.0         543.0          521.0   \n",
      "36        Oklahoma             7.0         530.0          517.0   \n",
      "33  North Carolina            49.0         546.0          535.0   \n",
      "28          Nevada            26.0         563.0          553.0   \n",
      "26         Montana            10.0         605.0          591.0   \n",
      "24     Mississippi             2.0         634.0          607.0   \n",
      "23       Minnesota             3.0         644.0          651.0   \n",
      "18       Louisiana             4.0         611.0          586.0   \n",
      "25        Missouri             3.0         640.0          631.0   \n",
      "50         Wyoming             3.0         626.0          604.0   \n",
      "5         Colorado            11.0         606.0          595.0   \n",
      "3         Arkansas             3.0         614.0          594.0   \n",
      "34    North Dakota             2.0         635.0          621.0   \n",
      "13        Illinois             9.0         559.0          556.0   \n",
      "11          Hawaii            55.0         544.0          541.0   \n",
      "\n",
      "    sat_total_2017  act_parti_2017  act_english_2017  act_math_2017  \\\n",
      "0           1165.0           100.0              18.9           18.4   \n",
      "17          1247.0           100.0              19.6           19.4   \n",
      "49          1291.0           100.0              19.7           20.4   \n",
      "44          1238.0           100.0              19.5           19.9   \n",
      "42          1228.0           100.0              19.5           19.2   \n",
      "40          1064.0           100.0              17.5           18.6   \n",
      "36          1047.0           100.0              18.5           18.8   \n",
      "33          1081.0           100.0              17.8           19.3   \n",
      "28          1116.0           100.0              16.3           18.0   \n",
      "26          1196.0           100.0              19.0           20.2   \n",
      "24          1242.0           100.0              18.2           18.1   \n",
      "23          1295.0           100.0              20.4           21.5   \n",
      "18          1198.0           100.0              19.4           18.8   \n",
      "25          1271.0           100.0              19.8           19.9   \n",
      "50          1230.0           100.0              19.4           19.8   \n",
      "5           1201.0           100.0              20.1           20.3   \n",
      "3           1208.0           100.0              18.9           19.0   \n",
      "34          1256.0            98.0              19.0           20.4   \n",
      "13          1115.0            93.0              21.0           21.2   \n",
      "11          1085.0            90.0              17.8           19.2   \n",
      "\n",
      "    act_reading_2017  act_science_2017  ...  sat_parti_2018  sat_erw_2018  \\\n",
      "0               19.7              19.4  ...             6.0         595.0   \n",
      "17              20.5              20.1  ...             4.0         630.0   \n",
      "49              20.6              20.9  ...             3.0         641.0   \n",
      "44              20.8              20.6  ...             4.0         480.0   \n",
      "42              20.1              19.9  ...             6.0         624.0   \n",
      "40              19.1              18.9  ...            55.0         547.0   \n",
      "36              20.1              19.6  ...             8.0         541.0   \n",
      "33              19.6              19.3  ...            52.0         554.0   \n",
      "28              18.1              18.2  ...            23.0         574.0   \n",
      "26              21.0              20.5  ...            10.0         606.0   \n",
      "24              18.8              18.8  ...             3.0         630.0   \n",
      "23              21.8              21.6  ...             4.0         643.0   \n",
      "18              19.8              19.6  ...             4.0         615.0   \n",
      "25              20.8              20.5  ...             4.0         633.0   \n",
      "50              20.8              20.6  ...             3.0         633.0   \n",
      "5               21.2              20.9  ...           100.0         519.0   \n",
      "3               19.7              19.5  ...             5.0         592.0   \n",
      "34              20.5              20.6  ...             2.0         640.0   \n",
      "13              21.6              21.3  ...            99.0         513.0   \n",
      "11              19.2              19.3  ...            56.0         480.0   \n",
      "\n",
      "    sat_math_2018  sat_total_2018  act_parti_2018  act_composite_2018  \\\n",
      "0           571.0          1166.0           100.0                19.1   \n",
      "17          618.0          1248.0           100.0                20.2   \n",
      "49          653.0          1294.0           100.0                20.5   \n",
      "44          530.0          1010.0           100.0                20.4   \n",
      "42          607.0          1231.0           100.0                19.6   \n",
      "40          523.0          1070.0           100.0                18.3   \n",
      "36          521.0          1062.0           100.0                19.3   \n",
      "33          543.0          1098.0           100.0                19.1   \n",
      "28          566.0          1140.0           100.0                17.7   \n",
      "26          592.0          1198.0           100.0                20.0   \n",
      "24          606.0          1236.0           100.0                18.6   \n",
      "23          655.0          1298.0            99.0                21.3   \n",
      "18          595.0          1210.0           100.0                19.2   \n",
      "25          629.0          1262.0           100.0                20.0   \n",
      "50          625.0          1257.0           100.0                20.0   \n",
      "5           506.0          1025.0            30.0                23.9   \n",
      "3           576.0          1169.0           100.0                19.4   \n",
      "34          643.0          1283.0            98.0                20.3   \n",
      "13          506.0          1019.0            43.0                23.9   \n",
      "11          530.0          1010.0            89.0                18.9   \n",
      "\n",
      "    act_english_2018  act_math_2018  act_reading_2018  act_science_2018  \n",
      "0               18.9           18.3              19.6              19.0  \n",
      "17              19.9           19.7              20.8              20.1  \n",
      "49              19.8           20.3              20.6              20.8  \n",
      "44              19.7           19.9              20.9              20.5  \n",
      "42              19.4           19.1              19.9              19.6  \n",
      "40              17.3           18.2              18.6              18.5  \n",
      "36              18.4           18.8              20.1              19.4  \n",
      "33              18.0           19.3              19.5              19.2  \n",
      "28              16.6           17.8              18.0              17.9  \n",
      "26              18.7           19.9              20.7              20.0  \n",
      "24              18.2           18.1              18.9              18.6  \n",
      "23              20.2           21.4              21.7              21.4  \n",
      "18              19.0           18.5              19.6              19.1  \n",
      "25              19.5           19.7              20.5              20.0  \n",
      "50              19.0           19.7              20.6              20.3  \n",
      "5               23.9           23.2              24.4              23.5  \n",
      "3               19.1           18.9              19.7              19.4  \n",
      "34              19.1           20.3              20.7              20.5  \n",
      "13              24.1           23.4              24.2              23.4  \n",
      "11              18.2           19.0              19.1              19.0  \n",
      "\n",
      "[20 rows x 21 columns]\n",
      "             state  sat_parti_2017  sat_erw_2017  sat_math_2017  \\\n",
      "0          Alabama             5.0         593.0          572.0   \n",
      "3         Arkansas             3.0         614.0          594.0   \n",
      "5         Colorado            11.0         606.0          595.0   \n",
      "17        Kentucky             4.0         631.0          616.0   \n",
      "18       Louisiana             4.0         611.0          586.0   \n",
      "23       Minnesota             3.0         644.0          651.0   \n",
      "24     Mississippi             2.0         634.0          607.0   \n",
      "25        Missouri             3.0         640.0          631.0   \n",
      "26         Montana            10.0         605.0          591.0   \n",
      "28          Nevada            26.0         563.0          553.0   \n",
      "33  North Carolina            49.0         546.0          535.0   \n",
      "36        Oklahoma             7.0         530.0          517.0   \n",
      "40  South Carolina            50.0         543.0          521.0   \n",
      "42       Tennessee             5.0         623.0          604.0   \n",
      "44            Utah             3.0         624.0          614.0   \n",
      "49       Wisconsin             3.0         642.0          649.0   \n",
      "50         Wyoming             3.0         626.0          604.0   \n",
      "\n",
      "    sat_total_2017  act_parti_2017  act_english_2017  act_math_2017  \\\n",
      "0           1165.0           100.0              18.9           18.4   \n",
      "3           1208.0           100.0              18.9           19.0   \n",
      "5           1201.0           100.0              20.1           20.3   \n",
      "17          1247.0           100.0              19.6           19.4   \n",
      "18          1198.0           100.0              19.4           18.8   \n",
      "23          1295.0           100.0              20.4           21.5   \n",
      "24          1242.0           100.0              18.2           18.1   \n",
      "25          1271.0           100.0              19.8           19.9   \n",
      "26          1196.0           100.0              19.0           20.2   \n",
      "28          1116.0           100.0              16.3           18.0   \n",
      "33          1081.0           100.0              17.8           19.3   \n",
      "36          1047.0           100.0              18.5           18.8   \n",
      "40          1064.0           100.0              17.5           18.6   \n",
      "42          1228.0           100.0              19.5           19.2   \n",
      "44          1238.0           100.0              19.5           19.9   \n",
      "49          1291.0           100.0              19.7           20.4   \n",
      "50          1230.0           100.0              19.4           19.8   \n",
      "\n",
      "    act_reading_2017  act_science_2017  ...  sat_parti_2018  sat_erw_2018  \\\n",
      "0               19.7              19.4  ...             6.0         595.0   \n",
      "3               19.7              19.5  ...             5.0         592.0   \n",
      "5               21.2              20.9  ...           100.0         519.0   \n",
      "17              20.5              20.1  ...             4.0         630.0   \n",
      "18              19.8              19.6  ...             4.0         615.0   \n",
      "23              21.8              21.6  ...             4.0         643.0   \n",
      "24              18.8              18.8  ...             3.0         630.0   \n",
      "25              20.8              20.5  ...             4.0         633.0   \n",
      "26              21.0              20.5  ...            10.0         606.0   \n",
      "28              18.1              18.2  ...            23.0         574.0   \n",
      "33              19.6              19.3  ...            52.0         554.0   \n",
      "36              20.1              19.6  ...             8.0         541.0   \n",
      "40              19.1              18.9  ...            55.0         547.0   \n",
      "42              20.1              19.9  ...             6.0         624.0   \n",
      "44              20.8              20.6  ...             4.0         480.0   \n",
      "49              20.6              20.9  ...             3.0         641.0   \n",
      "50              20.8              20.6  ...             3.0         633.0   \n",
      "\n",
      "    sat_math_2018  sat_total_2018  act_parti_2018  act_composite_2018  \\\n",
      "0           571.0          1166.0           100.0                19.1   \n",
      "3           576.0          1169.0           100.0                19.4   \n",
      "5           506.0          1025.0            30.0                23.9   \n",
      "17          618.0          1248.0           100.0                20.2   \n",
      "18          595.0          1210.0           100.0                19.2   \n",
      "23          655.0          1298.0            99.0                21.3   \n",
      "24          606.0          1236.0           100.0                18.6   \n",
      "25          629.0          1262.0           100.0                20.0   \n",
      "26          592.0          1198.0           100.0                20.0   \n",
      "28          566.0          1140.0           100.0                17.7   \n",
      "33          543.0          1098.0           100.0                19.1   \n",
      "36          521.0          1062.0           100.0                19.3   \n",
      "40          523.0          1070.0           100.0                18.3   \n",
      "42          607.0          1231.0           100.0                19.6   \n",
      "44          530.0          1010.0           100.0                20.4   \n",
      "49          653.0          1294.0           100.0                20.5   \n",
      "50          625.0          1257.0           100.0                20.0   \n",
      "\n",
      "    act_english_2018  act_math_2018  act_reading_2018  act_science_2018  \n",
      "0               18.9           18.3              19.6              19.0  \n",
      "3               19.1           18.9              19.7              19.4  \n",
      "5               23.9           23.2              24.4              23.5  \n",
      "17              19.9           19.7              20.8              20.1  \n",
      "18              19.0           18.5              19.6              19.1  \n",
      "23              20.2           21.4              21.7              21.4  \n",
      "24              18.2           18.1              18.9              18.6  \n",
      "25              19.5           19.7              20.5              20.0  \n",
      "26              18.7           19.9              20.7              20.0  \n",
      "28              16.6           17.8              18.0              17.9  \n",
      "33              18.0           19.3              19.5              19.2  \n",
      "36              18.4           18.8              20.1              19.4  \n",
      "40              17.3           18.2              18.6              18.5  \n",
      "42              19.4           19.1              19.9              19.6  \n",
      "44              19.7           19.9              20.9              20.5  \n",
      "49              19.8           20.3              20.6              20.8  \n",
      "50              19.0           19.7              20.6              20.3  \n",
      "\n",
      "[17 rows x 21 columns]\n",
      "            state  sat_parti_2017  sat_erw_2017  sat_math_2017  \\\n",
      "19          Maine            95.0         513.0          499.0   \n",
      "29  New Hampshire            96.0         532.0          520.0   \n",
      "7        Delaware           100.0         503.0          492.0   \n",
      "39   Rhode Island            71.0         539.0          524.0   \n",
      "38   Pennsylvania            65.0         540.0          531.0   \n",
      "\n",
      "    sat_total_2017  act_parti_2017  act_english_2017  act_math_2017  \\\n",
      "19          1012.0             8.0              24.2           24.0   \n",
      "29          1052.0            18.0              25.4           25.1   \n",
      "7            996.0            18.0              24.1           23.4   \n",
      "39          1062.0            21.0              24.0           23.3   \n",
      "38          1071.0            23.0              23.4           23.4   \n",
      "\n",
      "    act_reading_2017  act_science_2017  ...  sat_parti_2018  sat_erw_2018  \\\n",
      "19              24.8              23.7  ...            99.0         512.0   \n",
      "29              26.0              24.9  ...            96.0         535.0   \n",
      "7               24.8              23.6  ...           100.0         505.0   \n",
      "39              24.7              23.4  ...            97.0         513.0   \n",
      "38              24.2              23.3  ...            70.0         547.0   \n",
      "\n",
      "    sat_math_2018  sat_total_2018  act_parti_2018  act_composite_2018  \\\n",
      "19          501.0          1013.0             7.0                24.0   \n",
      "29          528.0          1063.0            16.0                25.1   \n",
      "7           492.0           998.0            17.0                23.2   \n",
      "39          505.0          1018.0            15.0                24.2   \n",
      "38          539.0          1086.0            20.0                23.5   \n",
      "\n",
      "    act_english_2018  act_math_2018  act_reading_2018  act_science_2018  \n",
      "19              23.8           23.6              24.7              23.4  \n",
      "29              25.1           24.7              25.6              24.4  \n",
      "7               23.7           23.1              24.5              23.4  \n",
      "39              24.4           23.6              25.0              23.5  \n",
      "38              23.3           23.2              24.0              23.1  \n",
      "\n",
      "[5 rows x 21 columns]\n",
      "            state  sat_parti_2017  sat_erw_2017  sat_math_2017  \\\n",
      "7        Delaware           100.0         503.0          492.0   \n",
      "19          Maine            95.0         513.0          499.0   \n",
      "29  New Hampshire            96.0         532.0          520.0   \n",
      "\n",
      "    sat_total_2017  act_parti_2017  act_english_2017  act_math_2017  \\\n",
      "7            996.0            18.0              24.1           23.4   \n",
      "19          1012.0             8.0              24.2           24.0   \n",
      "29          1052.0            18.0              25.4           25.1   \n",
      "\n",
      "    act_reading_2017  act_science_2017  ...  sat_parti_2018  sat_erw_2018  \\\n",
      "7               24.8              23.6  ...           100.0         505.0   \n",
      "19              24.8              23.7  ...            99.0         512.0   \n",
      "29              26.0              24.9  ...            96.0         535.0   \n",
      "\n",
      "    sat_math_2018  sat_total_2018  act_parti_2018  act_composite_2018  \\\n",
      "7           492.0           998.0            17.0                23.2   \n",
      "19          501.0          1013.0             7.0                24.0   \n",
      "29          528.0          1063.0            16.0                25.1   \n",
      "\n",
      "    act_english_2018  act_math_2018  act_reading_2018  act_science_2018  \n",
      "7               23.7           23.1              24.5              23.4  \n",
      "19              23.8           23.6              24.7              23.4  \n",
      "29              25.1           24.7              25.6              24.4  \n",
      "\n",
      "[3 rows x 21 columns]\n"
     ]
    }
   ],
   "source": [
    "# 2017 ACT : Participation Rate\n",
    "# Method 1 : sorting \n",
    "# Method 2 : masking with criteria setting\n",
    "\n",
    "# ACT 2017 : HIGHEST Participation Rate\n",
    "# Method 1 \n",
    "print(sat_act_2017_2018.sort_values('act_parti_2017',ascending = False).head(20))\n",
    "\n",
    "# Method 2 \n",
    "highest_act_parti_2017 = sat_act_2017_2018['act_parti_2017'] > 99\n",
    "print(sat_act_2017_2018[highest_act_parti_2017])\n",
    "\n",
    "\n",
    "# ACT 2017 : LOWEST Participation Rate\n",
    "# Method 1 \n",
    "print(sat_act_2017_2018.sort_values('act_parti_2017').head())\n",
    "# Method 2 \n",
    "lowest_act_parti_2017 = sat_act_2017_2018['act_parti_2017'] < 20\n",
    "print(sat_act_2017_2018[lowest_act_parti_2017])"
   ]
  },
  {
   "cell_type": "markdown",
   "metadata": {},
   "source": [
    "ACT 2017\n",
    "HIGHEST Participation Rate \n",
    "\n",
    "For ACT 2017, through sorting dataframe by a column,  through masking of criteria of > 99, the highest participation rate states, are\n",
    "\n",
    "Alabama            \n",
    "Kentucky\n",
    "Wisconsin\n",
    "Utah\n",
    "Tennessee\n",
    "South Carolina\n",
    "Oklahoma\n",
    "North Carolina\n",
    "Nevada\n",
    "Montana\n",
    "Mississippi\n",
    "Minnesota\n",
    "Louisiana\n",
    "Missouri\n",
    "Wyoming\n",
    "Colorado\n",
    "Arkansas\n",
    "These states have a participation rate of 100.0, as the next highest participation rate is 98.0\n"
   ]
  },
  {
   "cell_type": "markdown",
   "metadata": {},
   "source": [
    "ACT 2017\n",
    "LOWEST Participation Rate\n",
    "\n",
    "For ACT 2017, through sorting dataframe by a column, through masking of criteria of < 9, the lowest participation rate states, are\n",
    "Maine\n",
    "\n",
    "These states have a participation rate of 8.0, the next lowest participation rate is 18.0"
   ]
  },
  {
   "cell_type": "code",
   "execution_count": 334,
   "metadata": {},
   "outputs": [
    {
     "name": "stdout",
     "output_type": "stream",
     "text": [
      "             state  sat_parti_2017  sat_erw_2017  sat_math_2017  \\\n",
      "0          Alabama             5.0         593.0          572.0   \n",
      "17        Kentucky             4.0         631.0          616.0   \n",
      "49       Wisconsin             3.0         642.0          649.0   \n",
      "44            Utah             3.0         624.0          614.0   \n",
      "42       Tennessee             5.0         623.0          604.0   \n",
      "40  South Carolina            50.0         543.0          521.0   \n",
      "36        Oklahoma             7.0         530.0          517.0   \n",
      "35            Ohio            12.0         578.0          570.0   \n",
      "33  North Carolina            49.0         546.0          535.0   \n",
      "28          Nevada            26.0         563.0          553.0   \n",
      "27        Nebraska             3.0         629.0          625.0   \n",
      "26         Montana            10.0         605.0          591.0   \n",
      "24     Mississippi             2.0         634.0          607.0   \n",
      "18       Louisiana             4.0         611.0          586.0   \n",
      "25        Missouri             3.0         640.0          631.0   \n",
      "50         Wyoming             3.0         626.0          604.0   \n",
      "3         Arkansas             3.0         614.0          594.0   \n",
      "23       Minnesota             3.0         644.0          651.0   \n",
      "34    North Dakota             2.0         635.0          621.0   \n",
      "11          Hawaii            55.0         544.0          541.0   \n",
      "\n",
      "    sat_total_2017  act_parti_2017  act_english_2017  act_math_2017  \\\n",
      "0           1165.0           100.0              18.9           18.4   \n",
      "17          1247.0           100.0              19.6           19.4   \n",
      "49          1291.0           100.0              19.7           20.4   \n",
      "44          1238.0           100.0              19.5           19.9   \n",
      "42          1228.0           100.0              19.5           19.2   \n",
      "40          1064.0           100.0              17.5           18.6   \n",
      "36          1047.0           100.0              18.5           18.8   \n",
      "35          1149.0            75.0              21.2           21.6   \n",
      "33          1081.0           100.0              17.8           19.3   \n",
      "28          1116.0           100.0              16.3           18.0   \n",
      "27          1253.0            84.0              20.9           20.9   \n",
      "26          1196.0           100.0              19.0           20.2   \n",
      "24          1242.0           100.0              18.2           18.1   \n",
      "18          1198.0           100.0              19.4           18.8   \n",
      "25          1271.0           100.0              19.8           19.9   \n",
      "50          1230.0           100.0              19.4           19.8   \n",
      "3           1208.0           100.0              18.9           19.0   \n",
      "23          1295.0           100.0              20.4           21.5   \n",
      "34          1256.0            98.0              19.0           20.4   \n",
      "11          1085.0            90.0              17.8           19.2   \n",
      "\n",
      "    act_reading_2017  act_science_2017  ...  sat_parti_2018  sat_erw_2018  \\\n",
      "0               19.7              19.4  ...             6.0         595.0   \n",
      "17              20.5              20.1  ...             4.0         630.0   \n",
      "49              20.6              20.9  ...             3.0         641.0   \n",
      "44              20.8              20.6  ...             4.0         480.0   \n",
      "42              20.1              19.9  ...             6.0         624.0   \n",
      "40              19.1              18.9  ...            55.0         547.0   \n",
      "36              20.1              19.6  ...             8.0         541.0   \n",
      "35              22.5              22.0  ...            18.0         552.0   \n",
      "33              19.6              19.3  ...            52.0         554.0   \n",
      "28              18.1              18.2  ...            23.0         574.0   \n",
      "27              21.9              21.5  ...             3.0         629.0   \n",
      "26              21.0              20.5  ...            10.0         606.0   \n",
      "24              18.8              18.8  ...             3.0         630.0   \n",
      "18              19.8              19.6  ...             4.0         615.0   \n",
      "25              20.8              20.5  ...             4.0         633.0   \n",
      "50              20.8              20.6  ...             3.0         633.0   \n",
      "3               19.7              19.5  ...             5.0         592.0   \n",
      "23              21.8              21.6  ...             4.0         643.0   \n",
      "34              20.5              20.6  ...             2.0         640.0   \n",
      "11              19.2              19.3  ...            56.0         480.0   \n",
      "\n",
      "    sat_math_2018  sat_total_2018  act_parti_2018  act_composite_2018  \\\n",
      "0           571.0          1166.0           100.0                19.1   \n",
      "17          618.0          1248.0           100.0                20.2   \n",
      "49          653.0          1294.0           100.0                20.5   \n",
      "44          530.0          1010.0           100.0                20.4   \n",
      "42          607.0          1231.0           100.0                19.6   \n",
      "40          523.0          1070.0           100.0                18.3   \n",
      "36          521.0          1062.0           100.0                19.3   \n",
      "35          547.0          1099.0           100.0                20.3   \n",
      "33          543.0          1098.0           100.0                19.1   \n",
      "28          566.0          1140.0           100.0                17.7   \n",
      "27          623.0          1252.0           100.0                20.1   \n",
      "26          592.0          1198.0           100.0                20.0   \n",
      "24          606.0          1236.0           100.0                18.6   \n",
      "18          595.0          1210.0           100.0                19.2   \n",
      "25          629.0          1262.0           100.0                20.0   \n",
      "50          625.0          1257.0           100.0                20.0   \n",
      "3           576.0          1169.0           100.0                19.4   \n",
      "23          655.0          1298.0            99.0                21.3   \n",
      "34          643.0          1283.0            98.0                20.3   \n",
      "11          530.0          1010.0            89.0                18.9   \n",
      "\n",
      "    act_english_2018  act_math_2018  act_reading_2018  act_science_2018  \n",
      "0               18.9           18.3              19.6              19.0  \n",
      "17              19.9           19.7              20.8              20.1  \n",
      "49              19.8           20.3              20.6              20.8  \n",
      "44              19.7           19.9              20.9              20.5  \n",
      "42              19.4           19.1              19.9              19.6  \n",
      "40              17.3           18.2              18.6              18.5  \n",
      "36              18.4           18.8              20.1              19.4  \n",
      "35              19.3           20.3              20.8              20.4  \n",
      "33              18.0           19.3              19.5              19.2  \n",
      "28              16.6           17.8              18.0              17.9  \n",
      "27              19.4           19.8              20.4              20.1  \n",
      "26              18.7           19.9              20.7              20.0  \n",
      "24              18.2           18.1              18.9              18.6  \n",
      "18              19.0           18.5              19.6              19.1  \n",
      "25              19.5           19.7              20.5              20.0  \n",
      "50              19.0           19.7              20.6              20.3  \n",
      "3               19.1           18.9              19.7              19.4  \n",
      "23              20.2           21.4              21.7              21.4  \n",
      "34              19.1           20.3              20.7              20.5  \n",
      "11              18.2           19.0              19.1              19.0  \n",
      "\n",
      "[20 rows x 21 columns]\n",
      "             state  sat_parti_2017  sat_erw_2017  sat_math_2017  \\\n",
      "0          Alabama             5.0         593.0          572.0   \n",
      "3         Arkansas             3.0         614.0          594.0   \n",
      "17        Kentucky             4.0         631.0          616.0   \n",
      "18       Louisiana             4.0         611.0          586.0   \n",
      "24     Mississippi             2.0         634.0          607.0   \n",
      "25        Missouri             3.0         640.0          631.0   \n",
      "26         Montana            10.0         605.0          591.0   \n",
      "27        Nebraska             3.0         629.0          625.0   \n",
      "28          Nevada            26.0         563.0          553.0   \n",
      "33  North Carolina            49.0         546.0          535.0   \n",
      "35            Ohio            12.0         578.0          570.0   \n",
      "36        Oklahoma             7.0         530.0          517.0   \n",
      "40  South Carolina            50.0         543.0          521.0   \n",
      "42       Tennessee             5.0         623.0          604.0   \n",
      "44            Utah             3.0         624.0          614.0   \n",
      "49       Wisconsin             3.0         642.0          649.0   \n",
      "50         Wyoming             3.0         626.0          604.0   \n",
      "\n",
      "    sat_total_2017  act_parti_2017  act_english_2017  act_math_2017  \\\n",
      "0           1165.0           100.0              18.9           18.4   \n",
      "3           1208.0           100.0              18.9           19.0   \n",
      "17          1247.0           100.0              19.6           19.4   \n",
      "18          1198.0           100.0              19.4           18.8   \n",
      "24          1242.0           100.0              18.2           18.1   \n",
      "25          1271.0           100.0              19.8           19.9   \n",
      "26          1196.0           100.0              19.0           20.2   \n",
      "27          1253.0            84.0              20.9           20.9   \n",
      "28          1116.0           100.0              16.3           18.0   \n",
      "33          1081.0           100.0              17.8           19.3   \n",
      "35          1149.0            75.0              21.2           21.6   \n",
      "36          1047.0           100.0              18.5           18.8   \n",
      "40          1064.0           100.0              17.5           18.6   \n",
      "42          1228.0           100.0              19.5           19.2   \n",
      "44          1238.0           100.0              19.5           19.9   \n",
      "49          1291.0           100.0              19.7           20.4   \n",
      "50          1230.0           100.0              19.4           19.8   \n",
      "\n",
      "    act_reading_2017  act_science_2017  ...  sat_parti_2018  sat_erw_2018  \\\n",
      "0               19.7              19.4  ...             6.0         595.0   \n",
      "3               19.7              19.5  ...             5.0         592.0   \n",
      "17              20.5              20.1  ...             4.0         630.0   \n",
      "18              19.8              19.6  ...             4.0         615.0   \n",
      "24              18.8              18.8  ...             3.0         630.0   \n",
      "25              20.8              20.5  ...             4.0         633.0   \n",
      "26              21.0              20.5  ...            10.0         606.0   \n",
      "27              21.9              21.5  ...             3.0         629.0   \n",
      "28              18.1              18.2  ...            23.0         574.0   \n",
      "33              19.6              19.3  ...            52.0         554.0   \n",
      "35              22.5              22.0  ...            18.0         552.0   \n",
      "36              20.1              19.6  ...             8.0         541.0   \n",
      "40              19.1              18.9  ...            55.0         547.0   \n",
      "42              20.1              19.9  ...             6.0         624.0   \n",
      "44              20.8              20.6  ...             4.0         480.0   \n",
      "49              20.6              20.9  ...             3.0         641.0   \n",
      "50              20.8              20.6  ...             3.0         633.0   \n",
      "\n",
      "    sat_math_2018  sat_total_2018  act_parti_2018  act_composite_2018  \\\n",
      "0           571.0          1166.0           100.0                19.1   \n",
      "3           576.0          1169.0           100.0                19.4   \n",
      "17          618.0          1248.0           100.0                20.2   \n",
      "18          595.0          1210.0           100.0                19.2   \n",
      "24          606.0          1236.0           100.0                18.6   \n",
      "25          629.0          1262.0           100.0                20.0   \n",
      "26          592.0          1198.0           100.0                20.0   \n",
      "27          623.0          1252.0           100.0                20.1   \n",
      "28          566.0          1140.0           100.0                17.7   \n",
      "33          543.0          1098.0           100.0                19.1   \n",
      "35          547.0          1099.0           100.0                20.3   \n",
      "36          521.0          1062.0           100.0                19.3   \n",
      "40          523.0          1070.0           100.0                18.3   \n",
      "42          607.0          1231.0           100.0                19.6   \n",
      "44          530.0          1010.0           100.0                20.4   \n",
      "49          653.0          1294.0           100.0                20.5   \n",
      "50          625.0          1257.0           100.0                20.0   \n",
      "\n",
      "    act_english_2018  act_math_2018  act_reading_2018  act_science_2018  \n",
      "0               18.9           18.3              19.6              19.0  \n",
      "3               19.1           18.9              19.7              19.4  \n",
      "17              19.9           19.7              20.8              20.1  \n",
      "18              19.0           18.5              19.6              19.1  \n",
      "24              18.2           18.1              18.9              18.6  \n",
      "25              19.5           19.7              20.5              20.0  \n",
      "26              18.7           19.9              20.7              20.0  \n",
      "27              19.4           19.8              20.4              20.1  \n",
      "28              16.6           17.8              18.0              17.9  \n",
      "33              18.0           19.3              19.5              19.2  \n",
      "35              19.3           20.3              20.8              20.4  \n",
      "36              18.4           18.8              20.1              19.4  \n",
      "40              17.3           18.2              18.6              18.5  \n",
      "42              19.4           19.1              19.9              19.6  \n",
      "44              19.7           19.9              20.9              20.5  \n",
      "49              19.8           20.3              20.6              20.8  \n",
      "50              19.0           19.7              20.6              20.3  \n",
      "\n",
      "[17 rows x 21 columns]\n",
      "            state  sat_parti_2017  sat_erw_2017  sat_math_2017  \\\n",
      "19          Maine            95.0         513.0          499.0   \n",
      "39   Rhode Island            71.0         539.0          524.0   \n",
      "29  New Hampshire            96.0         532.0          520.0   \n",
      "7        Delaware           100.0         503.0          492.0   \n",
      "38   Pennsylvania            65.0         540.0          531.0   \n",
      "\n",
      "    sat_total_2017  act_parti_2017  act_english_2017  act_math_2017  \\\n",
      "19          1012.0             8.0              24.2           24.0   \n",
      "39          1062.0            21.0              24.0           23.3   \n",
      "29          1052.0            18.0              25.4           25.1   \n",
      "7            996.0            18.0              24.1           23.4   \n",
      "38          1071.0            23.0              23.4           23.4   \n",
      "\n",
      "    act_reading_2017  act_science_2017  ...  sat_parti_2018  sat_erw_2018  \\\n",
      "19              24.8              23.7  ...            99.0         512.0   \n",
      "39              24.7              23.4  ...            97.0         513.0   \n",
      "29              26.0              24.9  ...            96.0         535.0   \n",
      "7               24.8              23.6  ...           100.0         505.0   \n",
      "38              24.2              23.3  ...            70.0         547.0   \n",
      "\n",
      "    sat_math_2018  sat_total_2018  act_parti_2018  act_composite_2018  \\\n",
      "19          501.0          1013.0             7.0                24.0   \n",
      "39          505.0          1018.0            15.0                24.2   \n",
      "29          528.0          1063.0            16.0                25.1   \n",
      "7           492.0           998.0            17.0                23.2   \n",
      "38          539.0          1086.0            20.0                23.5   \n",
      "\n",
      "    act_english_2018  act_math_2018  act_reading_2018  act_science_2018  \n",
      "19              23.8           23.6              24.7              23.4  \n",
      "39              24.4           23.6              25.0              23.5  \n",
      "29              25.1           24.7              25.6              24.4  \n",
      "7               23.7           23.1              24.5              23.4  \n",
      "38              23.3           23.2              24.0              23.1  \n",
      "\n",
      "[5 rows x 21 columns]\n",
      "            state  sat_parti_2017  sat_erw_2017  sat_math_2017  \\\n",
      "7        Delaware           100.0         503.0          492.0   \n",
      "19          Maine            95.0         513.0          499.0   \n",
      "29  New Hampshire            96.0         532.0          520.0   \n",
      "39   Rhode Island            71.0         539.0          524.0   \n",
      "\n",
      "    sat_total_2017  act_parti_2017  act_english_2017  act_math_2017  \\\n",
      "7            996.0            18.0              24.1           23.4   \n",
      "19          1012.0             8.0              24.2           24.0   \n",
      "29          1052.0            18.0              25.4           25.1   \n",
      "39          1062.0            21.0              24.0           23.3   \n",
      "\n",
      "    act_reading_2017  act_science_2017  ...  sat_parti_2018  sat_erw_2018  \\\n",
      "7               24.8              23.6  ...           100.0         505.0   \n",
      "19              24.8              23.7  ...            99.0         512.0   \n",
      "29              26.0              24.9  ...            96.0         535.0   \n",
      "39              24.7              23.4  ...            97.0         513.0   \n",
      "\n",
      "    sat_math_2018  sat_total_2018  act_parti_2018  act_composite_2018  \\\n",
      "7           492.0           998.0            17.0                23.2   \n",
      "19          501.0          1013.0             7.0                24.0   \n",
      "29          528.0          1063.0            16.0                25.1   \n",
      "39          505.0          1018.0            15.0                24.2   \n",
      "\n",
      "    act_english_2018  act_math_2018  act_reading_2018  act_science_2018  \n",
      "7               23.7           23.1              24.5              23.4  \n",
      "19              23.8           23.6              24.7              23.4  \n",
      "29              25.1           24.7              25.6              24.4  \n",
      "39              24.4           23.6              25.0              23.5  \n",
      "\n",
      "[4 rows x 21 columns]\n"
     ]
    }
   ],
   "source": [
    "# 2018 ACT : Participation Rate\n",
    "# Method 1 : sorting \n",
    "# Method 2 : masking with criteria setting\n",
    "\n",
    "# ACT 2018 : HIGHEST Participation Rate\n",
    "# Method 1 \n",
    "print(sat_act_2017_2018.sort_values('act_parti_2018',ascending = False).head(20))\n",
    "\n",
    "# Method 2 \n",
    "highest_act_parti_2018 = sat_act_2017_2018['act_parti_2018'] > 99\n",
    "print(sat_act_2017_2018[highest_act_parti_2018])\n",
    "\n",
    "\n",
    "# ACT 2017 : LOWEST Participation Rate\n",
    "# Method 1 \n",
    "print(sat_act_2017_2018.sort_values('act_parti_2018').head())\n",
    "# Method 2 \n",
    "lowest_act_parti_2018 = sat_act_2017_2018['act_parti_2018'] < 20\n",
    "print(sat_act_2017_2018[lowest_act_parti_2018])"
   ]
  },
  {
   "cell_type": "markdown",
   "metadata": {},
   "source": [
    "ACT 2018\n",
    "HIGHEST Participation Rate \n",
    "\n",
    "For ACT 2018, through sorting dataframe by a column,  through masking of criteria of > 99, the highest participation rate states, are\n",
    "\n",
    "Alabama\n",
    "Kentucky\n",
    "Wisconsin\n",
    "Utah\n",
    "Tennessee\n",
    "South Carolina\n",
    "Oklahoma\n",
    "Ohio\n",
    "North Carolina\n",
    "Nevada\n",
    "Nebraska\n",
    "Montana\n",
    "Mississippi\n",
    "Louisiana\n",
    "Missouri\n",
    "Wyoming\n",
    "Arkansas\n",
    "\n",
    "These states have a participation rate of 100.0, as the next highest participation rate is 99.0\n"
   ]
  },
  {
   "cell_type": "markdown",
   "metadata": {},
   "source": [
    "ACT 2018\n",
    "LOWEST Participation Rate\n",
    "\n",
    "For ACT 2018, through sorting dataframe by a column, through masking of criteria of < 9, the lowest participation rate states, are\n",
    "Maine\n",
    "\n",
    "These states have a participation rate of 8.0, the next lowest participation rate is 15.0"
   ]
  },
  {
   "cell_type": "markdown",
   "metadata": {},
   "source": [
    "## Visualize the data\n",
    "\n",
    "There's not a magic bullet recommendation for the right number of plots to understand a given dataset, but visualizing your data is *always* a good idea. Not only does it allow you to quickly convey your findings (even if you have a non-technical audience), it will often reveal trends in your data that escaped you when you were looking only at numbers.\n",
    "\n",
    "Some recommendations on plotting:\n",
    "- Plots have titles\n",
    "- Plots have axis labels\n",
    "- Plots have appropriate tick labels\n",
    "- All text is legible in a plot\n",
    "- Plots demonstrate meaningful and valid relationships\n",
    "- Plots are interpreted to aid understanding\n",
    "\n",
    "There is such a thing as too many plots, and there are a *lot* of bad plots. You might make some! (But hopefully not with the guided prompts below)."
   ]
  },
  {
   "cell_type": "markdown",
   "metadata": {},
   "source": [
    "#### Use Seaborn's heatmap with pandas `.corr()` to visualize correlations between all numeric features\n",
    "\n",
    "Heatmaps are generally not appropriate for presentations, and should often be excluded from reports as they can be visually overwhelming. **However**, they can be extremely useful in identify relationships of potential interest (as well as identifying potential collinearity before modeling).\n",
    "\n",
    "*example*:\n",
    "```python\n",
    "sns.heatmap(df.corr())\n",
    "```\n",
    "\n",
    "Please take time to format your output, adding a title. Look through some of the additional arguments and options. (Axis labels aren't really necessary, as long as the title is informative)."
   ]
  },
  {
   "cell_type": "code",
   "execution_count": 335,
   "metadata": {},
   "outputs": [],
   "source": [
    "import seaborn as sns\n",
    "import matplotlib.pyplot as plt"
   ]
  },
  {
   "cell_type": "code",
   "execution_count": 336,
   "metadata": {},
   "outputs": [
    {
     "data": {
      "image/png": "[encoded data removed]",
      "text/plain": [
       "<Figure size 1080x1080 with 2 Axes>"
      ]
     },
     "metadata": {
      "needs_background": "light"
     },
     "output_type": "display_data"
    }
   ],
   "source": [
    "custom_mask = np.zeros_like(sat_act_2017_2018.corr()) # creating a zero matrix of the same size as the correlation matrix\n",
    "upper_triangle_index = np.triu_indices_from(custom_mask) # Generate indices corresponding to the upper triangle of the matrix\n",
    "custom_mask[upper_triangle_index] = True # set the upper triangle indices of the matrix to 1\n",
    "\n",
    "fig, ax = plt.subplots(figsize=(15,15))\n",
    "sat_act_2017_2018_correlations = sat_act_2017_2018.corr();\n",
    "sns.heatmap(sat_act_2017_2018_correlations, annot=True,vmin=-1,cmap='coolwarm',mask=custom_mask);\n",
    "plt.title('Correlation btn each test results and pariticpation rate of 2017 and 2018');"
   ]
  },
  {
   "cell_type": "markdown",
   "metadata": {},
   "source": [
    "#### Define a custom function to subplot histograms\n",
    "\n",
    "We have data for two tests for two years. We only have composite (and not subtest scores) for the 2018 ACT. We should write a function that will take the names of 2+ columns and subplot histograms. While you can use pandas plotting or Seaborn here, matplotlib gives you greater control over all aspects of your plots.\n",
    "\n",
    "[Helpful Link for Plotting Multiple Figures](https://matplotlib.org/users/pyplot_tutorial.html#working-with-multiple-figures-and-axes)\n",
    "\n",
    "Here's some starter code:"
   ]
  },
  {
   "cell_type": "code",
   "execution_count": 337,
   "metadata": {},
   "outputs": [],
   "source": [
    "def subplot_histograms(dataframe, list_of_columns, list_of_titles, list_of_xlabels):\n",
    "    nrows = int(np.ceil(len(list_of_columns)/2)) # Makes sure you have enough rows\n",
    "    fig, ax = plt.subplots(nrows=nrows, ncols=2,sharex=True,sharey=True) # You'll want to specify your figsize\n",
    "    ax = ax.ravel() # Ravel turns a matrix into a vector, which is easier to iterate\n",
    "    for i, column in enumerate(list_of_columns): # Gives us an index value to get into all our lists\n",
    "        ax[i].hist(dataframe[column]) # feel free to add more settings \n",
    "        for x,titles in enumerate(list_of_titles):\n",
    "            ax[x].title.set_text(titles)\n",
    "\n",
    "\n",
    "        # Set titles, labels, etc here for each subplot\n",
    "        #print(i)\n",
    " \n",
    "        #print(titles)"
   ]
  },
  {
   "cell_type": "markdown",
   "metadata": {},
   "source": [
    "#### Plot and interpret histograms \n",
    "For each of the following:\n",
    "- Participation rates for SAT & ACT\n",
    "- Math scores for SAT & ACT\n",
    "- Reading/verbal scores for SAT & ACT"
   ]
  },
  {
   "cell_type": "code",
   "execution_count": 339,
   "metadata": {
    "scrolled": true
   },
   "outputs": [
    {
     "data": {
      "image/png": "[encoded data removed]",
      "text/plain": [
       "<Figure size 432x288 with 4 Axes>"
      ]
     },
     "metadata": {
      "needs_background": "light"
     },
     "output_type": "display_data"
    }
   ],
   "source": [
    "# Participation rates for SAT and ACT \n",
    "subplot_histograms(sat_act_2017_2018,['sat_parti_2017','act_parti_2017','sat_parti_2018','act_parti_2018'],\n",
    "                   ['sat_parti_2017','act_parti_2017','sat_parti_2018','act_parti_2018'],\n",
    "                   ['sat_parti_2017','act_parti_2017','sat_parti_2018','act_parti_2018'])"
   ]
  },
  {
   "cell_type": "markdown",
   "metadata": {},
   "source": [
    "SAT 2017 and 2018 shows alot of states has the highest frequency of low participation rate"
   ]
  },
  {
   "cell_type": "code",
   "execution_count": 340,
   "metadata": {
    "scrolled": true
   },
   "outputs": [
    {
     "data": {
      "image/png": "[encoded data removed]",
      "text/plain": [
       "<Figure size 432x288 with 2 Axes>"
      ]
     },
     "metadata": {
      "needs_background": "light"
     },
     "output_type": "display_data"
    },
    {
     "data": {
      "image/png": "[encoded data removed]",
      "text/plain": [
       "<Figure size 432x288 with 2 Axes>"
      ]
     },
     "metadata": {
      "needs_background": "light"
     },
     "output_type": "display_data"
    }
   ],
   "source": [
    "subplot_histograms(sat_act_2017_2018,['sat_math_2017','sat_math_2018'],\n",
    "                   ['sat_math_2017','sat_math_2018'],\n",
    "                   ['sat_math_2017','sat_math_2018'])\n",
    "subplot_histograms(sat_act_2017_2018,['act_math_2017','act_math_2018'],\n",
    "                   ['act_math_2017','act_math_2018'],\n",
    "                   ['act_math_2017','act_math_2018'])\n"
   ]
  },
  {
   "cell_type": "code",
   "execution_count": 341,
   "metadata": {},
   "outputs": [
    {
     "data": {
      "image/png": "[encoded data removed]",
      "text/plain": [
       "<Figure size 432x288 with 2 Axes>"
      ]
     },
     "metadata": {
      "needs_background": "light"
     },
     "output_type": "display_data"
    },
    {
     "data": {
      "image/png": "[encoded data removed]",
      "text/plain": [
       "<Figure size 432x288 with 2 Axes>"
      ]
     },
     "metadata": {
      "needs_background": "light"
     },
     "output_type": "display_data"
    }
   ],
   "source": [
    "subplot_histograms(sat_act_2017_2018,['sat_erw_2017','sat_erw_2018'],\n",
    "                   ['sat_erw_2017','sat_erw_2018'],\n",
    "                   ['sat_erw_2017','sat_erw_2018'])\n",
    "subplot_histograms(sat_act_2017_2018,['act_reading_2017','act_reading_2018'],\n",
    "                   ['act_reading_2017','act_reading_2018'],\n",
    "                   ['act_reading_2017','act_reading_2018'])"
   ]
  },
  {
   "cell_type": "markdown",
   "metadata": {},
   "source": [
    "#### Plot and interpret scatter plots\n",
    "\n",
    "For each of the following:\n",
    "- SAT vs. ACT math scores for 2017\n",
    "- SAT vs. ACT verbal/reading scores for 2017\n",
    "- SAT vs. ACT total/composite scores for 2017\n",
    "- Total scores for SAT 2017 vs. 2018\n",
    "- Composite scores for ACT 2017 vs. 2018\n",
    "\n",
    "Plot the two variables against each other using matplotlib or Seaborn\n",
    "\n",
    "Your plots should show:\n",
    "- Two clearly labeled axes\n",
    "- A proper title\n",
    "- Using colors and symbols that are clear and unmistakable\n",
    "\n",
    "**Feel free to write a custom function, and subplot if you'd like.** Functions save both time and space.\n"
   ]
  },
  {
   "cell_type": "code",
   "execution_count": 342,
   "metadata": {
    "scrolled": true
   },
   "outputs": [
    {
     "data": {
      "text/plain": [
       "<matplotlib.axes._subplots.AxesSubplot at 0x1d9ef02d748>"
      ]
     },
     "execution_count": 342,
     "metadata": {},
     "output_type": "execute_result"
    },
    {
     "data": {
      "image/png": "[encoded data removed]",
      "text/plain": [
       "<Figure size 432x288 with 1 Axes>"
      ]
     },
     "metadata": {
      "needs_background": "light"
     },
     "output_type": "display_data"
    }
   ],
   "source": [
    "# Code\n",
    "# SAT MATH 2017 , ACT MATH 2017 \n",
    "sat_act_2017_2018.plot(x='sat_math_2017',y='act_math_2017',kind='scatter',title=\"Each point refers\\\n",
    " to the state math score in SAT and ACT 2017\")\n",
    "\n",
    "# Cluster of points are from 487.5 to 550 for ACT 2017, such states also did well in scoring for math SAT 2017 \n",
    "# at least 23 points and above. \n",
    "\n",
    "# states that score for ACT math 2017 from 600 to 650, also generally scored 22 to 19 for SAT math 2017\n"
   ]
  },
  {
   "cell_type": "code",
   "execution_count": 343,
   "metadata": {},
   "outputs": [
    {
     "data": {
      "text/plain": [
       "<matplotlib.axes._subplots.AxesSubplot at 0x1d9ef087308>"
      ]
     },
     "execution_count": 343,
     "metadata": {},
     "output_type": "execute_result"
    },
    {
     "data": {
      "image/png": "[encoded data removed]",
      "text/plain": [
       "<Figure size 432x288 with 1 Axes>"
      ]
     },
     "metadata": {
      "needs_background": "light"
     },
     "output_type": "display_data"
    }
   ],
   "source": [
    "# SAT ERW 2017 , ACT READING 2017\n",
    "sat_act_2017_2018.plot(x='sat_erw_2017',y='act_reading_2017',kind='scatter',title=\"Each point refers\\\n",
    " to the state ERW score in SAT and reading ACT for 2017\")"
   ]
  },
  {
   "cell_type": "code",
   "execution_count": 344,
   "metadata": {
    "scrolled": true
   },
   "outputs": [
    {
     "data": {
      "text/plain": [
       "<matplotlib.axes._subplots.AxesSubplot at 0x1d9ef24b2c8>"
      ]
     },
     "execution_count": 344,
     "metadata": {},
     "output_type": "execute_result"
    },
    {
     "data": {
      "image/png": "[encoded data removed]",
      "text/plain": [
       "<Figure size 432x288 with 1 Axes>"
      ]
     },
     "metadata": {
      "needs_background": "light"
     },
     "output_type": "display_data"
    }
   ],
   "source": [
    "# SAT Total 2017 , ACT Composite 2017\n",
    "sat_act_2017_2018.plot(x='sat_total_2017',y='act_composite_2017',kind='scatter',title=\"Each point refers\\\n",
    " to the state Total score in SAT and composite ACT for 2017\")"
   ]
  },
  {
   "cell_type": "code",
   "execution_count": 345,
   "metadata": {},
   "outputs": [
    {
     "data": {
      "text/plain": [
       "<matplotlib.axes._subplots.AxesSubplot at 0x1d9ef2c6e08>"
      ]
     },
     "execution_count": 345,
     "metadata": {},
     "output_type": "execute_result"
    },
    {
     "data": {
      "image/png": "[encoded data removed]",
      "text/plain": [
       "<Figure size 432x288 with 1 Axes>"
      ]
     },
     "metadata": {
      "needs_background": "light"
     },
     "output_type": "display_data"
    }
   ],
   "source": [
    "# Total SAT 2017 , Total SAT 2018\n",
    "sat_act_2017_2018.plot(x='sat_total_2017',y='sat_total_2018',kind='scatter',title=\"Each point refers\\\n",
    " to the state Total score in SAT and composite ACT for 2017\")\n"
   ]
  },
  {
   "cell_type": "code",
   "execution_count": 346,
   "metadata": {},
   "outputs": [
    {
     "data": {
      "text/plain": [
       "<matplotlib.axes._subplots.AxesSubplot at 0x1d9ef322888>"
      ]
     },
     "execution_count": 346,
     "metadata": {},
     "output_type": "execute_result"
    },
    {
     "data": {
      "image/png": "[encoded data removed]",
      "text/plain": [
       "<Figure size 432x288 with 1 Axes>"
      ]
     },
     "metadata": {
      "needs_background": "light"
     },
     "output_type": "display_data"
    }
   ],
   "source": [
    "# Composite ACT 2017 , Composite ACT 2018\n",
    "sat_act_2017_2018.plot(x='act_composite_2017',y='act_composite_2018',kind='scatter',title=\"Each point refers\\\n",
    " to the state Total score in SAT and composite ACT for 2017\")"
   ]
  },
  {
   "cell_type": "markdown",
   "metadata": {},
   "source": [
    "#### Plot and interpret boxplots\n",
    "\n",
    "For each numeric variable in the dataframe create a boxplot using Seaborn. Boxplots demonstrate central tendency and spread in variables. In a certain sense, these are somewhat redundant with histograms, but you may be better able to identify clear outliers or differences in IQR, etc.\n",
    "\n",
    "Multiple values can be plotted to a single boxplot as long as they are of the same relative scale (meaning they have similar min/max values).\n",
    "\n",
    "Each boxplot should:\n",
    "- Only include variables of a similar scale\n",
    "- Have clear labels for each variable\n",
    "- Have appropriate titles and labels"
   ]
  },
  {
   "cell_type": "code",
   "execution_count": 347,
   "metadata": {},
   "outputs": [],
   "source": [
    "import seaborn as sns"
   ]
  },
  {
   "cell_type": "code",
   "execution_count": 348,
   "metadata": {},
   "outputs": [],
   "source": [
    "# Grouping up boxplots by subjects to compare against each year, i.e. \n",
    "# Group 1 : SAT ERW 2017 vs SAT ERW 2018, SAT MATH 2017 , SAT MATCH 2018 \n",
    "# because , their test scores are roughly the same, and we can see what difference are there year on year\n",
    "# Group 2: sat parti 2017 vs sat parti 2018 \n",
    "# Group 3 : sat total 2017 vs sat total 2018 \n",
    "\n",
    "# noticeable changes would be sat parti 2017 and sat parti 2018 the IQR for 2018 has a big range from \n",
    "# roughly about 5 to 80 \n",
    "\n",
    "\n",
    "sat_year_a = sat_act_2017_2018[['sat_erw_2017','sat_erw_2018','sat_math_2017',\n",
    "                          'sat_math_2018'                          \n",
    "                         ]]\n",
    "sat_year_b = sat_act_2017_2018[['sat_parti_2017','sat_parti_2018'   \n",
    "                         ]]\n",
    "\n",
    "sat_year_c = sat_act_2017_2018[['sat_total_2017','sat_total_2018'   \n",
    "                         ]]"
   ]
  },
  {
   "cell_type": "code",
   "execution_count": 364,
   "metadata": {
    "scrolled": true
   },
   "outputs": [
    {
     "data": {
      "text/plain": [
       "Text(0.5, 1.0, 'Comparing SAT ERW and SAT Math for 2017 and 2018')"
      ]
     },
     "execution_count": 364,
     "metadata": {},
     "output_type": "execute_result"
    },
    {
     "data": {
      "image/png": "[encoded data removed]",
      "text/plain": [
       "<Figure size 432x288 with 1 Axes>"
      ]
     },
     "metadata": {
      "needs_background": "light"
     },
     "output_type": "display_data"
    }
   ],
   "source": [
    "\n",
    "sns.boxplot(data=sat_year_a,orient='h')\n",
    "plt.title(\"Comparing SAT ERW and SAT Math for 2017 and 2018\")\n"
   ]
  },
  {
   "cell_type": "code",
   "execution_count": 365,
   "metadata": {
    "scrolled": true
   },
   "outputs": [
    {
     "data": {
      "text/plain": [
       "Text(0.5, 1.0, 'SAT Parti 2017 vs SAT Parti 2018')"
      ]
     },
     "execution_count": 365,
     "metadata": {},
     "output_type": "execute_result"
    },
    {
     "data": {
      "image/png": "[encoded data removed]",
      "text/plain": [
       "<Figure size 432x288 with 1 Axes>"
      ]
     },
     "metadata": {
      "needs_background": "light"
     },
     "output_type": "display_data"
    }
   ],
   "source": [
    "sns.boxplot(data=sat_year_b,orient='h')\n",
    "plt.title(\"SAT Parti 2017 vs SAT Parti 2018\")"
   ]
  },
  {
   "cell_type": "code",
   "execution_count": 351,
   "metadata": {
    "scrolled": true
   },
   "outputs": [
    {
     "data": {
      "text/plain": [
       "<matplotlib.axes._subplots.AxesSubplot at 0x1d9ef4c0888>"
      ]
     },
     "execution_count": 351,
     "metadata": {},
     "output_type": "execute_result"
    },
    {
     "data": {
      "image/png": "[encoded data removed]",
      "text/plain": [
       "<Figure size 432x288 with 1 Axes>"
      ]
     },
     "metadata": {
      "needs_background": "light"
     },
     "output_type": "display_data"
    }
   ],
   "source": [
    "sns.boxplot(data=sat_year_c,orient='h')\n",
    "plt.title(\"SAT Total 2017 vs SAT Total 2018\")"
   ]
  },
  {
   "cell_type": "code",
   "execution_count": 352,
   "metadata": {},
   "outputs": [],
   "source": [
    "# Grouping up boxplots by subjects to compare against each year, i.e. \n",
    "# Group 1 : by each subject, ACT subject 2017 ,ACT subject 2018\n",
    "# because , their test scores are roughly the same, and we can see what difference are there year on year\n",
    "# Group 2: act parti 2017 vs act parti 2018 \n",
    "\n",
    "\n",
    "# noticeable changes would be sat parti 2017 and sat parti 2018 the IQR for 2018 has a big range from \n",
    "# roughly about 5 to 80 \n",
    "\n",
    "\n",
    "act_year_a = sat_act_2017_2018[['act_english_2017','act_english_2018',\n",
    "                                'act_math_2017','act_math_2018',\n",
    "                                'act_reading_2017','act_reading_2018',\n",
    "                                'act_science_2017','act_science_2018', \n",
    "                                'act_composite_2017','act_composite_2018', \n",
    "                         ]]\n",
    "act_year_b = sat_act_2017_2018[['act_parti_2017','act_parti_2018'   \n",
    "                         ]]\n",
    "\n"
   ]
  },
  {
   "cell_type": "code",
   "execution_count": 353,
   "metadata": {
    "scrolled": true
   },
   "outputs": [
    {
     "data": {
      "text/plain": [
       "<matplotlib.axes._subplots.AxesSubplot at 0x1d9ef549a88>"
      ]
     },
     "execution_count": 353,
     "metadata": {},
     "output_type": "execute_result"
    },
    {
     "data": {
      "image/png": "[encoded data removed]",
      "text/plain": [
       "<Figure size 432x288 with 1 Axes>"
      ]
     },
     "metadata": {
      "needs_background": "light"
     },
     "output_type": "display_data"
    }
   ],
   "source": [
    "sns.boxplot(data=act_year_a,orient='h')\n",
    "plt.title(\"ACT 2017 vs ACT  2018\")"
   ]
  },
  {
   "cell_type": "code",
   "execution_count": 354,
   "metadata": {},
   "outputs": [
    {
     "data": {
      "text/plain": [
       "<matplotlib.axes._subplots.AxesSubplot at 0x1d9ef67ab08>"
      ]
     },
     "execution_count": 354,
     "metadata": {},
     "output_type": "execute_result"
    },
    {
     "data": {
      "image/png": "[encoded data removed]",
      "text/plain": [
       "<Figure size 432x288 with 1 Axes>"
      ]
     },
     "metadata": {
      "needs_background": "light"
     },
     "output_type": "display_data"
    }
   ],
   "source": [
    "sns.boxplot(data=act_year_b,orient='h')\n",
    "plt.title(\"ACT Parti 2017 vs ACT Parti 2018\")"
   ]
  },
  {
   "cell_type": "markdown",
   "metadata": {},
   "source": [
    "#### Feel free to do additional plots below\n",
    "*(do research and choose your own chart types & variables)*\n",
    "\n",
    "Are there any additional trends or relationships you haven't explored? Was there something interesting you saw that you'd like to dive further into? It's likely that there are a few more plots you might want to generate to support your narrative and recommendations that you are building toward. **As always, make sure you're interpreting your plots as you go**."
   ]
  },
  {
   "cell_type": "code",
   "execution_count": null,
   "metadata": {},
   "outputs": [],
   "source": []
  },
  {
   "cell_type": "markdown",
   "metadata": {},
   "source": [
    "#### (Optional): Using Tableau, create a choropleth map for each variable using a map of the US. \n",
    "\n",
    "Save this plot as an image file in an images directory, provide a relative path, and insert the image into notebook in markdown."
   ]
  },
  {
   "cell_type": "code",
   "execution_count": null,
   "metadata": {},
   "outputs": [],
   "source": []
  },
  {
   "cell_type": "markdown",
   "metadata": {},
   "source": [
    "## Descriptive and Inferential Statistics"
   ]
  },
  {
   "cell_type": "markdown",
   "metadata": {},
   "source": [
    "#### Summarizing Distributions\n",
    "\n",
    "Above, we used pandas `describe` to provide quick summary statistics of our numeric columns. We also demonstrated many visual relationships.\n",
    "\n",
    "As data scientists, having a complete understanding of data is imperative prior to modeling.\n",
    "\n",
    "While we will continue to build our analytic tools, we know that measures of *central tendency*, *spread*, and *shape/skewness* provide a quick summary of distributions.\n",
    "\n",
    "For each variable in your data, summarize the underlying distributions (in words & statistics)\n",
    " - Be thorough in your verbal description of these distributions.\n",
    " - Be sure to back up these summaries with statistics."
   ]
  },
  {
   "cell_type": "markdown",
   "metadata": {},
   "source": [
    "Answers:"
   ]
  },
  {
   "cell_type": "markdown",
   "metadata": {},
   "source": [
    "\n",
    "#### Distributions in the data\n",
    "\n",
    "In this dataset, each data represents a sample from a population.                        \n",
    "For example, for ACT math test:\n",
    "- Population: the test results of all the students who take this test, nation-wide.\n",
    "- Population mean: is the national average of ACT math test (total scores/total no. of test takers) \n",
    "- Sample: the state means of ACT math test. We have 51 samples (51 states)\n",
    "\n",
    "***According to CLT, we generally assuming that data we sample from a population will be normally distributed. Do we observe this trend?***"
   ]
  },
  {
   "cell_type": "code",
   "execution_count": 355,
   "metadata": {},
   "outputs": [],
   "source": [
    "def sampler(population, n=30, k=1000):\n",
    "    sample_means = []\n",
    "    for i in range(k):\n",
    "        sample = np.random.choice(population, size=n, replace=True)\n",
    "        sample_means.append(np.mean(sample))\n",
    "    return sample_means"
   ]
  },
  {
   "cell_type": "code",
   "execution_count": 356,
   "metadata": {},
   "outputs": [],
   "source": [
    "def dist_plotter(sample):\n",
    "    fig, ax = plt.subplots(figsize=(8,6))\n",
    "    ax = sns.distplot(sample, bins=50, kde=False)"
   ]
  },
  {
   "cell_type": "code",
   "execution_count": 357,
   "metadata": {
    "scrolled": true
   },
   "outputs": [
    {
     "data": {
      "text/plain": [
       "Text(0.5, 1.0, 'Distribution of ACT Math 2017 @ 10000 tries')"
      ]
     },
     "execution_count": 357,
     "metadata": {},
     "output_type": "execute_result"
    },
    {
     "data": {
      "image/png": "[encoded data removed]",
      "text/plain": [
       "<Figure size 576x432 with 1 Axes>"
      ]
     },
     "metadata": {
      "needs_background": "light"
     },
     "output_type": "display_data"
    },
    {
     "data": {
      "image/png": "[encoded data removed]",
      "text/plain": [
       "<Figure size 576x432 with 1 Axes>"
      ]
     },
     "metadata": {
      "needs_background": "light"
     },
     "output_type": "display_data"
    }
   ],
   "source": [
    "dist_plotter(sampler(sat_act_2017_2018['act_math_2017']))\n",
    "plt.title('Distribution of ACT Math 2017 @ 1000 test')\n",
    "dist_plotter(sampler(sat_act_2017_2018['act_math_2017'],k=100000))\n",
    "plt.title('Distribution of ACT Math 2017 @ 10000 tries')\n"
   ]
  },
  {
   "cell_type": "markdown",
   "metadata": {},
   "source": [
    "Answer: Yes, because given that the sample size is 51, which is more than >30, and if we run the random selection of random 30 sample means of ACT math 2017, the data tends to extrapoliated into a normally distributed graph\n"
   ]
  },
  {
   "cell_type": "markdown",
   "metadata": {},
   "source": [
    "Does This Assumption Hold for:\n",
    "    - Math\n",
    "    - Reading\n",
    "    - Rates\n",
    "Explain your answers for each distribution and how you think this will affect estimates made from these data."
   ]
  },
  {
   "cell_type": "code",
   "execution_count": 358,
   "metadata": {},
   "outputs": [
    {
     "data": {
      "text/plain": [
       "Text(0.5, 1.0, 'Distribution of ACT Reading 2018')"
      ]
     },
     "execution_count": 358,
     "metadata": {},
     "output_type": "execute_result"
    },
    {
     "data": {
      "image/png": "[encoded data removed]",
      "text/plain": [
       "<Figure size 576x432 with 1 Axes>"
      ]
     },
     "metadata": {
      "needs_background": "light"
     },
     "output_type": "display_data"
    },
    {
     "data": {
      "image/png": "[encoded data removed]",
      "text/plain": [
       "<Figure size 576x432 with 1 Axes>"
      ]
     },
     "metadata": {
      "needs_background": "light"
     },
     "output_type": "display_data"
    }
   ],
   "source": [
    "\n",
    "dist_plotter(sampler(sat_act_2017_2018['act_reading_2017'],k=100000))\n",
    "plt.title('Distribution of ACT Reading 2017')\n",
    "dist_plotter(sampler(sat_act_2017_2018['act_reading_2018'],k=100000))\n",
    "plt.title('Distribution of ACT Reading 2018')"
   ]
  },
  {
   "cell_type": "markdown",
   "metadata": {},
   "source": [
    "Answer: For ACT Reading "
   ]
  },
  {
   "cell_type": "markdown",
   "metadata": {},
   "source": [
    "#### Estimate Limits of Data\n",
    "\n",
    "Suppose we only seek to understand the relationship between SAT and ACT participation rates in 2017. \n",
    "\n",
    "##### Does it make sense to conduct statistical inference given these data specifically? \n",
    "\n",
    "Why or why not?\n",
    "\n",
    "*(think about granularity, aggregation, the relationships between populations size & rates...consider the actually populations these data describe in answering this question)*"
   ]
  },
  {
   "cell_type": "markdown",
   "metadata": {},
   "source": [
    "Answer:\n",
    "Pros and Cons on conducting statisical inference for SAT and ACT participation rates. \n",
    "\n",
    "Pros\n",
    "1) States with low participation rate from the population mean allow SAT/ACT to focus more marketing exposure to promote their examinations in those states. \n",
    "\n",
    "Cons\n",
    "\n",
    "Irrelevant Information\n",
    "1) The population mean of participation rate, which would mean the average participation rate across  all states should be a certain figure. Hence if a state, e.g. Nevada, was below the mean of the population mean, it does not translate to useable information, as we cannot force students to take the exam , or travel to the state to take the exam. \n",
    "\n",
    "Continuous Variable\n",
    "2) the participation rate is made of students taking the exam, it is 'un-qunatifable', as the number of students can increase/decrease every year, i.e. a continuous variable\n"
   ]
  },
  {
   "cell_type": "markdown",
   "metadata": {},
   "source": [
    "##### Is it appropriate to compare *these* specific SAT and ACT math scores  - can we say students with higher SAT math score is better than those with lower ACT math score, or vice versa?\n",
    "\n",
    "Why or why not?\n",
    "\n",
    "The data is insufficient to tell whether students with higher SAT Math score is better than those with Lower ACT Math score. \n",
    "\n",
    "-  the data is not specific to state whether students took both SAT and ACT exam. If all the students took both exam, the data is able to determine when a student takes a math exam for SAT and ACT, does better in which exam.\n"
   ]
  },
  {
   "cell_type": "code",
   "execution_count": 359,
   "metadata": {},
   "outputs": [
    {
     "data": {
      "text/plain": [
       "<matplotlib.axes._subplots.AxesSubplot at 0x1d9fc484948>"
      ]
     },
     "execution_count": 359,
     "metadata": {},
     "output_type": "execute_result"
    },
    {
     "data": {
      "image/png": "[encoded data removed]",
      "text/plain": [
       "<Figure size 432x288 with 1 Axes>"
      ]
     },
     "metadata": {
      "needs_background": "light"
     },
     "output_type": "display_data"
    },
    {
     "data": {
      "image/png": "[encoded data removed]",
      "text/plain": [
       "<Figure size 432x288 with 1 Axes>"
      ]
     },
     "metadata": {
      "needs_background": "light"
     },
     "output_type": "display_data"
    }
   ],
   "source": [
    "\n",
    "\n",
    "sat_act_2017_2018.plot(x='sat_math_2017',y='act_math_2017',kind='scatter',title=\"Each point refers\\\n",
    " to the state math score in SAT and ACT 2017\")\n",
    "sat_act_2017_2018.plot(x='sat_math_2018',y='act_math_2018',kind='scatter',title=\"Each point refers\\\n",
    " to the state math score in SAT and ACT 2018\")"
   ]
  },
  {
   "cell_type": "code",
   "execution_count": 360,
   "metadata": {},
   "outputs": [
    {
     "data": {
      "text/html": [
       "<div>\n",
       "<style scoped>\n",
       "    .dataframe tbody tr th:only-of-type {\n",
       "        vertical-align: middle;\n",
       "    }\n",
       "\n",
       "    .dataframe tbody tr th {\n",
       "        vertical-align: top;\n",
       "    }\n",
       "\n",
       "    .dataframe thead th {\n",
       "        text-align: right;\n",
       "    }\n",
       "</style>\n",
       "<table border=\"1\" class=\"dataframe\">\n",
       "  <thead>\n",
       "    <tr style=\"text-align: right;\">\n",
       "      <th></th>\n",
       "      <th>count</th>\n",
       "      <th>mean</th>\n",
       "      <th>std</th>\n",
       "      <th>min</th>\n",
       "      <th>25%</th>\n",
       "      <th>50%</th>\n",
       "      <th>75%</th>\n",
       "      <th>max</th>\n",
       "    </tr>\n",
       "  </thead>\n",
       "  <tbody>\n",
       "    <tr>\n",
       "      <th>sat_parti_2017</th>\n",
       "      <td>51.0</td>\n",
       "      <td>39.803922</td>\n",
       "      <td>35.276632</td>\n",
       "      <td>2.0</td>\n",
       "      <td>4.00</td>\n",
       "      <td>38.0</td>\n",
       "      <td>66.00</td>\n",
       "      <td>100.0</td>\n",
       "    </tr>\n",
       "    <tr>\n",
       "      <th>sat_erw_2017</th>\n",
       "      <td>51.0</td>\n",
       "      <td>569.117676</td>\n",
       "      <td>45.666908</td>\n",
       "      <td>482.0</td>\n",
       "      <td>533.50</td>\n",
       "      <td>559.0</td>\n",
       "      <td>613.00</td>\n",
       "      <td>644.0</td>\n",
       "    </tr>\n",
       "    <tr>\n",
       "      <th>sat_math_2017</th>\n",
       "      <td>51.0</td>\n",
       "      <td>556.882324</td>\n",
       "      <td>47.121399</td>\n",
       "      <td>468.0</td>\n",
       "      <td>523.50</td>\n",
       "      <td>548.0</td>\n",
       "      <td>599.00</td>\n",
       "      <td>651.0</td>\n",
       "    </tr>\n",
       "    <tr>\n",
       "      <th>sat_total_2017</th>\n",
       "      <td>51.0</td>\n",
       "      <td>1126.098022</td>\n",
       "      <td>92.494820</td>\n",
       "      <td>950.0</td>\n",
       "      <td>1055.50</td>\n",
       "      <td>1107.0</td>\n",
       "      <td>1212.00</td>\n",
       "      <td>1295.0</td>\n",
       "    </tr>\n",
       "    <tr>\n",
       "      <th>act_parti_2017</th>\n",
       "      <td>51.0</td>\n",
       "      <td>65.254902</td>\n",
       "      <td>32.140842</td>\n",
       "      <td>8.0</td>\n",
       "      <td>31.00</td>\n",
       "      <td>69.0</td>\n",
       "      <td>100.00</td>\n",
       "      <td>100.0</td>\n",
       "    </tr>\n",
       "    <tr>\n",
       "      <th>act_english_2017</th>\n",
       "      <td>51.0</td>\n",
       "      <td>20.931373</td>\n",
       "      <td>2.353677</td>\n",
       "      <td>16.3</td>\n",
       "      <td>19.00</td>\n",
       "      <td>20.7</td>\n",
       "      <td>23.30</td>\n",
       "      <td>25.5</td>\n",
       "    </tr>\n",
       "    <tr>\n",
       "      <th>act_math_2017</th>\n",
       "      <td>51.0</td>\n",
       "      <td>21.182353</td>\n",
       "      <td>1.981989</td>\n",
       "      <td>18.0</td>\n",
       "      <td>19.40</td>\n",
       "      <td>20.9</td>\n",
       "      <td>23.10</td>\n",
       "      <td>25.3</td>\n",
       "    </tr>\n",
       "    <tr>\n",
       "      <th>act_reading_2017</th>\n",
       "      <td>51.0</td>\n",
       "      <td>22.013725</td>\n",
       "      <td>2.067271</td>\n",
       "      <td>18.1</td>\n",
       "      <td>20.45</td>\n",
       "      <td>21.8</td>\n",
       "      <td>24.15</td>\n",
       "      <td>26.0</td>\n",
       "    </tr>\n",
       "    <tr>\n",
       "      <th>act_science_2017</th>\n",
       "      <td>51.0</td>\n",
       "      <td>21.450980</td>\n",
       "      <td>1.739353</td>\n",
       "      <td>18.2</td>\n",
       "      <td>19.95</td>\n",
       "      <td>21.3</td>\n",
       "      <td>23.20</td>\n",
       "      <td>24.9</td>\n",
       "    </tr>\n",
       "    <tr>\n",
       "      <th>act_composite_2017</th>\n",
       "      <td>51.0</td>\n",
       "      <td>21.519608</td>\n",
       "      <td>2.020695</td>\n",
       "      <td>17.8</td>\n",
       "      <td>19.80</td>\n",
       "      <td>21.4</td>\n",
       "      <td>23.60</td>\n",
       "      <td>25.5</td>\n",
       "    </tr>\n",
       "    <tr>\n",
       "      <th>sat_parti_2018</th>\n",
       "      <td>51.0</td>\n",
       "      <td>45.745098</td>\n",
       "      <td>37.314256</td>\n",
       "      <td>2.0</td>\n",
       "      <td>4.50</td>\n",
       "      <td>52.0</td>\n",
       "      <td>77.50</td>\n",
       "      <td>100.0</td>\n",
       "    </tr>\n",
       "    <tr>\n",
       "      <th>sat_erw_2018</th>\n",
       "      <td>51.0</td>\n",
       "      <td>563.686275</td>\n",
       "      <td>47.502627</td>\n",
       "      <td>480.0</td>\n",
       "      <td>534.50</td>\n",
       "      <td>552.0</td>\n",
       "      <td>610.50</td>\n",
       "      <td>643.0</td>\n",
       "    </tr>\n",
       "    <tr>\n",
       "      <th>sat_math_2018</th>\n",
       "      <td>51.0</td>\n",
       "      <td>556.235294</td>\n",
       "      <td>47.772623</td>\n",
       "      <td>480.0</td>\n",
       "      <td>522.50</td>\n",
       "      <td>544.0</td>\n",
       "      <td>593.50</td>\n",
       "      <td>655.0</td>\n",
       "    </tr>\n",
       "    <tr>\n",
       "      <th>sat_total_2018</th>\n",
       "      <td>51.0</td>\n",
       "      <td>1120.019608</td>\n",
       "      <td>94.155083</td>\n",
       "      <td>977.0</td>\n",
       "      <td>1057.50</td>\n",
       "      <td>1098.0</td>\n",
       "      <td>1204.00</td>\n",
       "      <td>1298.0</td>\n",
       "    </tr>\n",
       "    <tr>\n",
       "      <th>act_parti_2018</th>\n",
       "      <td>51.0</td>\n",
       "      <td>61.647059</td>\n",
       "      <td>34.080976</td>\n",
       "      <td>7.0</td>\n",
       "      <td>28.50</td>\n",
       "      <td>66.0</td>\n",
       "      <td>100.00</td>\n",
       "      <td>100.0</td>\n",
       "    </tr>\n",
       "    <tr>\n",
       "      <th>act_composite_2018</th>\n",
       "      <td>51.0</td>\n",
       "      <td>21.486275</td>\n",
       "      <td>2.106278</td>\n",
       "      <td>17.7</td>\n",
       "      <td>19.95</td>\n",
       "      <td>21.3</td>\n",
       "      <td>23.55</td>\n",
       "      <td>25.6</td>\n",
       "    </tr>\n",
       "    <tr>\n",
       "      <th>act_english_2018</th>\n",
       "      <td>51.0</td>\n",
       "      <td>20.988235</td>\n",
       "      <td>2.446356</td>\n",
       "      <td>16.6</td>\n",
       "      <td>19.10</td>\n",
       "      <td>20.2</td>\n",
       "      <td>23.70</td>\n",
       "      <td>26.0</td>\n",
       "    </tr>\n",
       "    <tr>\n",
       "      <th>act_math_2018</th>\n",
       "      <td>51.0</td>\n",
       "      <td>21.125490</td>\n",
       "      <td>2.035765</td>\n",
       "      <td>17.8</td>\n",
       "      <td>19.40</td>\n",
       "      <td>20.7</td>\n",
       "      <td>23.15</td>\n",
       "      <td>25.2</td>\n",
       "    </tr>\n",
       "    <tr>\n",
       "      <th>act_reading_2018</th>\n",
       "      <td>51.0</td>\n",
       "      <td>22.015686</td>\n",
       "      <td>2.167245</td>\n",
       "      <td>18.0</td>\n",
       "      <td>20.45</td>\n",
       "      <td>21.6</td>\n",
       "      <td>24.10</td>\n",
       "      <td>26.1</td>\n",
       "    </tr>\n",
       "    <tr>\n",
       "      <th>act_science_2018</th>\n",
       "      <td>51.0</td>\n",
       "      <td>21.345098</td>\n",
       "      <td>1.870114</td>\n",
       "      <td>17.9</td>\n",
       "      <td>19.85</td>\n",
       "      <td>21.1</td>\n",
       "      <td>23.05</td>\n",
       "      <td>24.9</td>\n",
       "    </tr>\n",
       "  </tbody>\n",
       "</table>\n",
       "</div>"
      ],
      "text/plain": [
       "                    count         mean        std    min      25%     50%  \\\n",
       "sat_parti_2017       51.0    39.803922  35.276632    2.0     4.00    38.0   \n",
       "sat_erw_2017         51.0   569.117676  45.666908  482.0   533.50   559.0   \n",
       "sat_math_2017        51.0   556.882324  47.121399  468.0   523.50   548.0   \n",
       "sat_total_2017       51.0  1126.098022  92.494820  950.0  1055.50  1107.0   \n",
       "act_parti_2017       51.0    65.254902  32.140842    8.0    31.00    69.0   \n",
       "act_english_2017     51.0    20.931373   2.353677   16.3    19.00    20.7   \n",
       "act_math_2017        51.0    21.182353   1.981989   18.0    19.40    20.9   \n",
       "act_reading_2017     51.0    22.013725   2.067271   18.1    20.45    21.8   \n",
       "act_science_2017     51.0    21.450980   1.739353   18.2    19.95    21.3   \n",
       "act_composite_2017   51.0    21.519608   2.020695   17.8    19.80    21.4   \n",
       "sat_parti_2018       51.0    45.745098  37.314256    2.0     4.50    52.0   \n",
       "sat_erw_2018         51.0   563.686275  47.502627  480.0   534.50   552.0   \n",
       "sat_math_2018        51.0   556.235294  47.772623  480.0   522.50   544.0   \n",
       "sat_total_2018       51.0  1120.019608  94.155083  977.0  1057.50  1098.0   \n",
       "act_parti_2018       51.0    61.647059  34.080976    7.0    28.50    66.0   \n",
       "act_composite_2018   51.0    21.486275   2.106278   17.7    19.95    21.3   \n",
       "act_english_2018     51.0    20.988235   2.446356   16.6    19.10    20.2   \n",
       "act_math_2018        51.0    21.125490   2.035765   17.8    19.40    20.7   \n",
       "act_reading_2018     51.0    22.015686   2.167245   18.0    20.45    21.6   \n",
       "act_science_2018     51.0    21.345098   1.870114   17.9    19.85    21.1   \n",
       "\n",
       "                        75%     max  \n",
       "sat_parti_2017        66.00   100.0  \n",
       "sat_erw_2017         613.00   644.0  \n",
       "sat_math_2017        599.00   651.0  \n",
       "sat_total_2017      1212.00  1295.0  \n",
       "act_parti_2017       100.00   100.0  \n",
       "act_english_2017      23.30    25.5  \n",
       "act_math_2017         23.10    25.3  \n",
       "act_reading_2017      24.15    26.0  \n",
       "act_science_2017      23.20    24.9  \n",
       "act_composite_2017    23.60    25.5  \n",
       "sat_parti_2018        77.50   100.0  \n",
       "sat_erw_2018         610.50   643.0  \n",
       "sat_math_2018        593.50   655.0  \n",
       "sat_total_2018      1204.00  1298.0  \n",
       "act_parti_2018       100.00   100.0  \n",
       "act_composite_2018    23.55    25.6  \n",
       "act_english_2018      23.70    26.0  \n",
       "act_math_2018         23.15    25.2  \n",
       "act_reading_2018      24.10    26.1  \n",
       "act_science_2018      23.05    24.9  "
      ]
     },
     "execution_count": 360,
     "metadata": {},
     "output_type": "execute_result"
    }
   ],
   "source": [
    "sat_act_2017_2018.describe().T"
   ]
  },
  {
   "cell_type": "markdown",
   "metadata": {},
   "source": [
    "Answer:"
   ]
  },
  {
   "cell_type": "markdown",
   "metadata": {},
   "source": [
    "#### Statistical Evaluation of Distributions \n",
    "\n",
    "**If you feel it's appropriate**, using methods we discussed in class, run hypothesis tests to compare variables of interest in our dataset. "
   ]
  },
  {
   "cell_type": "code",
   "execution_count": 370,
   "metadata": {},
   "outputs": [
    {
     "data": {
      "text/html": [
       "<table class=\"simpletable\">\n",
       "<caption>OLS Regression Results</caption>\n",
       "<tr>\n",
       "  <th>Dep. Variable:</th>      <td>act_math_2017</td>  <th>  R-squared:         </th> <td>   0.177</td>\n",
       "</tr>\n",
       "<tr>\n",
       "  <th>Model:</th>                   <td>OLS</td>       <th>  Adj. R-squared:    </th> <td>   0.160</td>\n",
       "</tr>\n",
       "<tr>\n",
       "  <th>Method:</th>             <td>Least Squares</td>  <th>  F-statistic:       </th> <td>   10.52</td>\n",
       "</tr>\n",
       "<tr>\n",
       "  <th>Date:</th>             <td>Tue, 11 Aug 2020</td> <th>  Prob (F-statistic):</th>  <td>0.00213</td>\n",
       "</tr>\n",
       "<tr>\n",
       "  <th>Time:</th>                 <td>02:01:53</td>     <th>  Log-Likelihood:    </th> <td> -101.79</td>\n",
       "</tr>\n",
       "<tr>\n",
       "  <th>No. Observations:</th>      <td>    51</td>      <th>  AIC:               </th> <td>   207.6</td>\n",
       "</tr>\n",
       "<tr>\n",
       "  <th>Df Residuals:</th>          <td>    49</td>      <th>  BIC:               </th> <td>   211.4</td>\n",
       "</tr>\n",
       "<tr>\n",
       "  <th>Df Model:</th>              <td>     1</td>      <th>                     </th>     <td> </td>   \n",
       "</tr>\n",
       "<tr>\n",
       "  <th>Covariance Type:</th>      <td>nonrobust</td>    <th>                     </th>     <td> </td>   \n",
       "</tr>\n",
       "</table>\n",
       "<table class=\"simpletable\">\n",
       "<tr>\n",
       "        <td></td>           <th>coef</th>     <th>std err</th>      <th>t</th>      <th>P>|t|</th>  <th>[0.025</th>    <th>0.975]</th>  \n",
       "</tr>\n",
       "<tr>\n",
       "  <th>const</th>         <td>   31.0308</td> <td>    3.047</td> <td>   10.185</td> <td> 0.000</td> <td>   24.908</td> <td>   37.153</td>\n",
       "</tr>\n",
       "<tr>\n",
       "  <th>sat_math_2017</th> <td>   -0.0177</td> <td>    0.005</td> <td>   -3.244</td> <td> 0.002</td> <td>   -0.029</td> <td>   -0.007</td>\n",
       "</tr>\n",
       "</table>\n",
       "<table class=\"simpletable\">\n",
       "<tr>\n",
       "  <th>Omnibus:</th>       <td> 2.635</td> <th>  Durbin-Watson:     </th> <td>   1.961</td>\n",
       "</tr>\n",
       "<tr>\n",
       "  <th>Prob(Omnibus):</th> <td> 0.268</td> <th>  Jarque-Bera (JB):  </th> <td>   1.499</td>\n",
       "</tr>\n",
       "<tr>\n",
       "  <th>Skew:</th>          <td>-0.077</td> <th>  Prob(JB):          </th> <td>   0.473</td>\n",
       "</tr>\n",
       "<tr>\n",
       "  <th>Kurtosis:</th>      <td> 2.174</td> <th>  Cond. No.          </th> <td>6.69e+03</td>\n",
       "</tr>\n",
       "</table><br/><br/>Warnings:<br/>[1] Standard Errors assume that the covariance matrix of the errors is correctly specified.<br/>[2] The condition number is large, 6.69e+03. This might indicate that there are<br/>strong multicollinearity or other numerical problems."
      ],
      "text/plain": [
       "<class 'statsmodels.iolib.summary.Summary'>\n",
       "\"\"\"\n",
       "                            OLS Regression Results                            \n",
       "==============================================================================\n",
       "Dep. Variable:          act_math_2017   R-squared:                       0.177\n",
       "Model:                            OLS   Adj. R-squared:                  0.160\n",
       "Method:                 Least Squares   F-statistic:                     10.52\n",
       "Date:                Tue, 11 Aug 2020   Prob (F-statistic):            0.00213\n",
       "Time:                        02:01:53   Log-Likelihood:                -101.79\n",
       "No. Observations:                  51   AIC:                             207.6\n",
       "Df Residuals:                      49   BIC:                             211.4\n",
       "Df Model:                           1                                         \n",
       "Covariance Type:            nonrobust                                         \n",
       "=================================================================================\n",
       "                    coef    std err          t      P>|t|      [0.025      0.975]\n",
       "---------------------------------------------------------------------------------\n",
       "const            31.0308      3.047     10.185      0.000      24.908      37.153\n",
       "sat_math_2017    -0.0177      0.005     -3.244      0.002      -0.029      -0.007\n",
       "==============================================================================\n",
       "Omnibus:                        2.635   Durbin-Watson:                   1.961\n",
       "Prob(Omnibus):                  0.268   Jarque-Bera (JB):                1.499\n",
       "Skew:                          -0.077   Prob(JB):                        0.473\n",
       "Kurtosis:                       2.174   Cond. No.                     6.69e+03\n",
       "==============================================================================\n",
       "\n",
       "Warnings:\n",
       "[1] Standard Errors assume that the covariance matrix of the errors is correctly specified.\n",
       "[2] The condition number is large, 6.69e+03. This might indicate that there are\n",
       "strong multicollinearity or other numerical problems.\n",
       "\"\"\""
      ]
     },
     "execution_count": 370,
     "metadata": {},
     "output_type": "execute_result"
    }
   ],
   "source": [
    "# Code:\n",
    "from scipy import stats\n",
    "import statsmodels.api as sm\n",
    "SATMATH = sat_act_2017_2018['sat_math_2017']\n",
    "ACTMATH = sat_act_2017_2018['act_math_2017']\n",
    "t_stat, p_value = stats.ttest_ind(SATMATH, ACTMATH, equal_var=False)\n",
    "SATMATH = sm.add_constant(SATMATH)\n",
    "model = sm.OLS(ACTMATH,SATMATH).fit()\n",
    "model.summary()"
   ]
  },
  {
   "cell_type": "markdown",
   "metadata": {},
   "source": [
    "## Outside Research"
   ]
  },
  {
   "cell_type": "markdown",
   "metadata": {},
   "source": [
    "Based upon your observations, choose **three** states that demonstrate interesting trends in their SAT and/or ACT participation rates. Spend some time doing outside research on state policies that might influence these rates, and summarize your findings below. **Feel free to go back and create new plots that highlight these states of interest**. If you bring in any outside tables or charts, make sure you are explicit about having borrowed them. If you quote any text, make sure that it renders as being quoted. (Make sure that you cite your sources -- check with you local instructor for citation preferences)."
   ]
  },
  {
   "cell_type": "markdown",
   "metadata": {},
   "source": [
    "https://www.enchantedlearning.com/usa/states/population.shtml\n",
    "\n",
    "the 3 states of interest are Wyoming, North Dakota and South Dakota with low Participation rate for SAT for consecutive years but interestinglt have high participation for ACT \n",
    "\n",
    "These 3 states have low population size but yet able to achieve high penetration for ACT examination "
   ]
  },
  {
   "cell_type": "code",
   "execution_count": 362,
   "metadata": {},
   "outputs": [
    {
     "data": {
      "text/plain": [
       "<matplotlib.axes._subplots.AxesSubplot at 0x1d9ef008088>"
      ]
     },
     "execution_count": 362,
     "metadata": {},
     "output_type": "execute_result"
    },
    {
     "data": {
      "image/png": "[encoded data removed]",
      "text/plain": [
       "<Figure size 432x288 with 1 Axes>"
      ]
     },
     "metadata": {
      "needs_background": "light"
     },
     "output_type": "display_data"
    },
    {
     "data": {
      "image/png": "[encoded data removed]",
      "text/plain": [
       "<Figure size 432x288 with 1 Axes>"
      ]
     },
     "metadata": {
      "needs_background": "light"
     },
     "output_type": "display_data"
    },
    {
     "data": {
      "image/png": "[encoded data removed]",
      "text/plain": [
       "<Figure size 432x288 with 1 Axes>"
      ]
     },
     "metadata": {
      "needs_background": "light"
     },
     "output_type": "display_data"
    },
    {
     "data": {
      "image/png": "[encoded data removed]",
      "text/plain": [
       "<Figure size 432x288 with 1 Axes>"
      ]
     },
     "metadata": {
      "needs_background": "light"
     },
     "output_type": "display_data"
    }
   ],
   "source": [
    "# States participation rate has a positive correlation for the same exam but different year i.e.\n",
    "# states with low participation rate in 2017 also had low participation rate in 2018, be it for SAT or ACT\n",
    "\n",
    "# Cross-comparing participation rate for different exams within the same year\n",
    "# shows that states with high participation rate in SAT , had low participation rate for ACT and vice versa\n",
    "\n",
    "sat_act_2017_2018.plot(x='sat_parti_2017',y='sat_parti_2018',kind='scatter',title=\"Each point refers\\\n",
    " to the state participation 2017 vs 2018 for SAT\")\n",
    "sat_act_2017_2018.plot(x='act_parti_2017',y='act_parti_2018',kind='scatter',title=\"Each point refers\\\n",
    "  to the state participation 2017 vs 2018 for ACT\")\n",
    "sat_act_2017_2018.plot(x='sat_parti_2017',y='act_parti_2017',kind='scatter',title=\"Each point refers\\\n",
    " to the state participation 2017 vs 2018 for ACT\")\n",
    "sat_act_2017_2018.plot(x='sat_parti_2018',y='act_parti_2018',kind='scatter',title=\"Each point refers\\\n",
    " to the state math score in SAT and ACT 2018\")"
   ]
  },
  {
   "cell_type": "markdown",
   "metadata": {},
   "source": [
    "## Conclusions and Recommendations"
   ]
  },
  {
   "cell_type": "markdown",
   "metadata": {},
   "source": [
    "Based on your exploration of the data, what are you key takeaways and recommendations? Choose one state with a lower participation rate and provide a suggestion for how the College Board might increase participation amongst graduating seniors in this state. Are there additional data you desire that would better inform your investigations?"
   ]
  },
  {
   "cell_type": "markdown",
   "metadata": {},
   "source": [
    "North Dakota\n",
    "Low participation rate for SAT but high for ACT\n",
    "- understand why seniors choose to take ACT instead \n",
    "- could it be due to the syllabus for schools in North Dakota are more relevant to ACT syllabus \n",
    "- could due to schools actively promoting ACT and not SAT"
   ]
  }
 ],
 "metadata": {
  "anaconda-cloud": {},
  "kernelspec": {
   "display_name": "Python 3",
   "language": "python",
   "name": "python3"
  },
  "language_info": {
   "codemirror_mode": {
    "name": "ipython",
    "version": 3
   },
   "file_extension": ".py",
   "mimetype": "text/x-python",
   "name": "python",
   "nbconvert_exporter": "python",
   "pygments_lexer": "ipython3",
   "version": "3.7.6"
  },
  "varInspector": {
   "cols": {
    "lenName": 16,
    "lenType": 16,
    "lenVar": 40
   },
   "kernels_config": {
    "python": {
     "delete_cmd_postfix": "",
     "delete_cmd_prefix": "del ",
     "library": "var_list.py",
     "varRefreshCmd": "print(var_dic_list())"
    },
    "r": {
     "delete_cmd_postfix": ") ",
     "delete_cmd_prefix": "rm(",
     "library": "var_list.r",
     "varRefreshCmd": "cat(var_dic_list()) "
    }
   },
   "types_to_exclude": [
    "module",
    "function",
    "builtin_function_or_method",
    "instance",
    "_Feature"
   ],
   "window_display": false
  }
 },
 "nbformat": 4,
 "nbformat_minor": 2
}
